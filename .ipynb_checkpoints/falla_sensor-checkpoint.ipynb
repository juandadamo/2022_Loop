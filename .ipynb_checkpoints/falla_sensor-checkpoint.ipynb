{
 "cells": [
  {
   "cell_type": "code",
   "execution_count": 1,
   "id": "61c7d36d",
   "metadata": {
    "_kg_hide-input": true,
    "_kg_hide-output": true,
    "papermill": {
     "duration": 12.40044,
     "end_time": "2021-05-30T21:24:18.188788",
     "exception": false,
     "start_time": "2021-05-30T21:24:05.788348",
     "status": "completed"
    },
    "tags": []
   },
   "outputs": [],
   "source": [
    "%%capture\n",
    "!pip install ht CoolProp fluids xlrd xlwt"
   ]
  },
  {
   "cell_type": "code",
   "execution_count": 2,
   "id": "693fee3f",
   "metadata": {
    "_cell_guid": "b1076dfc-b9ad-4769-8c92-a6c4dae69d19",
    "_kg_hide-input": true,
    "_kg_hide-output": true,
    "_uuid": "8f2839f25d086af736a60e9eeb907d3b93b6e0e5",
    "papermill": {
     "duration": 0.12376,
     "end_time": "2021-05-30T21:24:18.340027",
     "exception": false,
     "start_time": "2021-05-30T21:24:18.216267",
     "status": "completed"
    },
    "tags": []
   },
   "outputs": [],
   "source": [
    "%matplotlib widget\n",
    "import numpy as np # linear algebra\n",
    "import pandas as pd # data processing, CSV file I/O (e.g. pd.read_csv)\n",
    "import xlwt as xw\n",
    "lista_data = []\n",
    "import matplotlib.pyplot as plt\n",
    "import ht,fluids,os,socket\n",
    "import CoolProp as cp\n",
    "from IPython.display import Latex\n",
    "from prop_fluidos_intercambiadores import fluido_intercambiador\n",
    "import time,datetime,pint\n",
    "colores = plt.rcParams['axes.prop_cycle'].by_key()['color']\n",
    "from scipy.signal import find_peaks\n",
    "from scipy.signal import savgol_filter\n",
    "mk = ['o','s','<','d','p']\n",
    "ureg = pint.UnitRegistry()\n",
    "psipa = (1*ureg.psi).to('Pa')\n",
    "psipa = psipa.to_tuple()[0]\n",
    "from tikzplotlib import save as savetikz\n",
    "from ipywidgets import interact, interact_manual,interactive,widgets,Layout"
   ]
  },
  {
   "cell_type": "markdown",
   "id": "92643a95",
   "metadata": {
    "papermill": {
     "duration": 0.026188,
     "end_time": "2021-05-30T21:24:18.392866",
     "exception": false,
     "start_time": "2021-05-30T21:24:18.366678",
     "status": "completed"
    },
    "tags": []
   },
   "source": [
    "## Intercambiador de Calor\n",
    "#### HIPOTESIS DE CALCULO:\n",
    "\n",
    "\n",
    "1. Intercambiador de calor a contracorriente de tubos concéntricos\n"
   ]
  },
  {
   "cell_type": "code",
   "execution_count": null,
   "id": "abae9fea-8051-4395-b38f-9087e4fbc4e6",
   "metadata": {},
   "outputs": [],
   "source": []
  },
  {
   "cell_type": "code",
   "execution_count": 3,
   "id": "872bec7a-c244-42d0-81b9-057eacff63d8",
   "metadata": {},
   "outputs": [],
   "source": [
    "B = pd.read_excel('Densidad y viscosidad diesel.xlsx',thousands=',',sheet_name=1,skiprows=3)\n",
    "Temps  = pd.to_numeric(B['T(K)'],errors='ignore').to_numpy()\n",
    "Viscosidad = pd.to_numeric(B['Viscosidad (cp)'],errors='ignore').to_numpy()\n",
    "Densidad = pd.to_numeric(B['Densidad (g/ml)'],errors='ignore').to_numpy()*1000\n",
    "D_interno_1 = 0.8366*25.4e-3\n",
    "\n",
    "\n",
    "## ajuste\n",
    "P1 = np.polyfit(1/Temps,np.log(Viscosidad),1)\n",
    "viscosidad_f = np.poly1d(P1)\n",
    "temperaturas = np.linspace(Temps[0]-10,Temps[-1]+10,100)\n",
    "P2 = np.polyfit(Temps,Densidad,1)\n",
    "densidad_f = np.poly1d(P2)"
   ]
  },
  {
   "cell_type": "code",
   "execution_count": 4,
   "id": "9e821114-7ad3-47bf-96f9-905e721d4240",
   "metadata": {},
   "outputs": [
    {
     "data": {
      "text/plain": [
       "(array([2302.55849485,   -6.61174115]),\n",
       " array([-6.94642857e-01,  1.02629170e+03]))"
      ]
     },
     "execution_count": 4,
     "metadata": {},
     "output_type": "execute_result"
    }
   ],
   "source": [
    "P1,P2"
   ]
  },
  {
   "cell_type": "code",
   "execution_count": 5,
   "id": "21e7dad3-9987-42f8-8735-5923e0f436e0",
   "metadata": {},
   "outputs": [],
   "source": [
    "salida_sensor = np.array([3.9,2.39,1.25,0.45,0.244,0.205,0.056,-3.67,-2.36,-1.15,-0.34,-0.12,-0.080,1.25])\n",
    "velocidades_motor = np.array([-2000,-1500,-1000,-500,-250,-200,0,2000,1500,1000,500,250,200,-1000])\n",
    "caudales = np.array([-27.3,-20.685,-14.2,-7.588,-3.9,-3.153,0,26.7,20.9,14.24,7.68,4.04,3.3,-14.16])"
   ]
  },
  {
   "cell_type": "code",
   "execution_count": 6,
   "id": "ef67244d-9d6b-4136-9ed5-e66ff57eeb65",
   "metadata": {},
   "outputs": [
    {
     "data": {
      "application/vnd.jupyter.widget-view+json": {
       "model_id": "ea7c3385b10c433e8b0ef860ca138b60",
       "version_major": 2,
       "version_minor": 0
      },
      "text/plain": [
       "Canvas(toolbar=Toolbar(toolitems=[('Home', 'Reset original view', 'home', 'home'), ('Back', 'Back to previous …"
      ]
     },
     "metadata": {},
     "output_type": "display_data"
    }
   ],
   "source": [
    "fig,ax = plt.subplots()\n",
    "ax.plot(np.abs(salida_sensor),np.abs(caudales),'o',fillstyle='none',markersize=10)\n",
    "axb = ax.twinx()\n",
    "axb.plot(np.abs(salida_sensor),np.abs(velocidades_motor),'s',color=colores[1],fillstyle='none',markersize=10)\n",
    "ax.grid()\n",
    "axb.set_ylabel('rpm')\n",
    "ax.set_ylabel('Caudal [lt/min]')\n",
    "ax.set_xlabel('lectura sensor [Volt]')\n",
    "axb.yaxis.label.set_color(colores[1])\n",
    "ax.yaxis.label.set_color(colores[0])"
   ]
  },
  {
   "cell_type": "code",
   "execution_count": 9,
   "id": "6aa3b30b-9d90-4376-be6a-14ee6a8d5911",
   "metadata": {},
   "outputs": [
    {
     "data": {
      "application/vnd.jupyter.widget-view+json": {
       "model_id": "688f13de30f045f288fd2ac057f42d31",
       "version_major": 2,
       "version_minor": 0
      },
      "text/plain": [
       "Canvas(toolbar=Toolbar(toolitems=[('Home', 'Reset original view', 'home', 'home'), ('Back', 'Back to previous …"
      ]
     },
     "metadata": {},
     "output_type": "display_data"
    }
   ],
   "source": [
    "fig,ax = plt.subplots()\n",
    "G2i = caudales\n",
    "P1 = np.polyfit(G2i,salida_sensor,1)\n",
    "sensordp_f = np.poly1d(P1)\n",
    "\n",
    "G2_s = np.linspace(G2i.min(),G2i.max(),100)\n",
    "ax.plot(G2i,(salida_sensor),'o',fillstyle='none',markersize=10)\n",
    "ax.plot(G2_s,sensordp_f(G2_s))\n",
    "ax.grid()\n",
    "ax.set_xlabel('Caudal |Caudal| [lt/min]$^2$')\n",
    "ax.set_ylabel('lectura sensor [Volt]')\n",
    "ax.yaxis.label.set_color(colores[0])"
   ]
  },
  {
   "cell_type": "code",
   "execution_count": 49,
   "id": "69b06674-6551-47c6-a9cc-7edd59f48ab7",
   "metadata": {},
   "outputs": [],
   "source": [
    "A = pd.read_excel('Pruebas diesel 19-08-2022.xlsx',thousands=',')\n",
    "A = A.drop(A.index[[0,1,2]])\n",
    "\n",
    "Caudal = pd.to_numeric(A['CORIOLIS_VolFlow'],errors='coerce').to_numpy()/1000\n",
    "dt = 15/3600\n",
    "time1 = np.arange(0,len(Caudal)*dt,dt)\n",
    "indices = np.logical_not(np.isnan(Caudal))\n",
    "densidad = pd.to_numeric(A['CORIOLIS_Density'],errors='ignore').to_numpy()\n",
    "\n",
    "TE_s = np.tile(np.zeros_like(Caudal),[12,1])\n",
    "PT_s = np.tile(np.zeros_like(Caudal),[6,1])\n",
    "for i in range(10,22):\n",
    "    TE_s[i-10] = pd.to_numeric(A.iloc[:,i],errors='coerce').to_numpy()\n",
    "for i in range(1,6):\n",
    "    PT_s[i-1] = pd.to_numeric(A.iloc[:,i],errors='coerce').to_numpy()\n",
    "Tchiller_pv, Tchiller_sp = [pd.to_numeric(A.iloc[:,i].to_numpy(),errors='ignore') for i in range(27,29)]\n",
    "PT_ref= np.array([PTi[:160].mean() for PTi in PT_s])\n",
    "PT_s = PT_s - np.tile(PT_ref,[len(PT_s[0]),1]).T"
   ]
  },
  {
   "cell_type": "code",
   "execution_count": 48,
   "id": "061fdcbb-1652-4674-a5b1-35bcfcdcb0f8",
   "metadata": {},
   "outputs": [],
   "source": [
    "A = pd.read_excel('Pruebas diesel 31-08-2022 calib DP y quitar resistencia.xlsx',thousands=',')\n",
    "A=A.drop(A.index[[0,1,2,3]])\n",
    "Caudal = pd.to_numeric(A['CORIOLIS_VolFlow'],errors='coerce').to_numpy()/1000\n",
    "dt = 15/3600\n",
    "time1 = np.arange(0,len(Caudal)*dt,dt)\n",
    "indices = np.logical_not(np.isnan(Caudal))\n",
    "densidad = pd.to_numeric(A['CORIOLIS_Density'],errors='ignore').to_numpy()\n",
    "\n",
    "TE_s = np.tile(np.zeros_like(Caudal),[12,1])\n",
    "PT_s = np.tile(np.zeros_like(Caudal),[5,1])\n",
    "for i in range(10,22):\n",
    "    TE_s[i-10] = pd.to_numeric(A.iloc[:,i],errors='coerce').to_numpy()\n",
    "for i in range(1,6):\n",
    "    PT_s[i-1] = pd.to_numeric(A.iloc[:,i],errors='coerce').to_numpy()\n",
    "Tchiller_pv, Tchiller_sp = [pd.to_numeric(A.iloc[:,i].to_numpy(),errors='ignore') for i in range(27,29)]\n",
    "\n",
    "#PT_s = PT_s - np.tile(PT_ref,[len(PT_s[0]),1]).T\n",
    "\n",
    "dt = 15/3600\n",
    "time1 = np.arange(0,len(Caudal)*dt,dt)"
   ]
  },
  {
   "cell_type": "code",
   "execution_count": 50,
   "id": "7e9dc58c-fa21-442e-aca1-44353bf382fa",
   "metadata": {},
   "outputs": [
    {
     "data": {
      "application/vnd.jupyter.widget-view+json": {
       "model_id": "541509d0d5964a10a9ebac35937ce816",
       "version_major": 2,
       "version_minor": 0
      },
      "text/plain": [
       "Canvas(toolbar=Toolbar(toolitems=[('Home', 'Reset original view', 'home', 'home'), ('Back', 'Back to previous …"
      ]
     },
     "metadata": {},
     "output_type": "display_data"
    },
    {
     "data": {
      "text/plain": [
       "[<matplotlib.lines.Line2D at 0x7f4278d2d1f0>]"
      ]
     },
     "execution_count": 50,
     "metadata": {},
     "output_type": "execute_result"
    }
   ],
   "source": [
    "fig,ax = plt.subplots()\n",
    "ax.plot(time1,PT_s.T);\n",
    "axb = ax.twinx()\n",
    "axb.plot(time1,Caudal,'k--')\n",
    "Caudal2 = np.copy(Caudal)\n",
    "Caudal2[np.isnan(Caudal)] = 1e3\n",
    "picos = find_peaks(np.abs(np.diff( Caudal2)),threshold=1)\n",
    "axb.plot(time1[picos[0]], Caudal[picos[0]],'o')\n",
    "ax.plot(time1[1:], np.abs(np.diff( Caudal)))"
   ]
  },
  {
   "cell_type": "code",
   "execution_count": 51,
   "id": "02a0eec3-d79e-4819-ad25-1f11d12d90a1",
   "metadata": {},
   "outputs": [],
   "source": [
    "class ensayo:    \n",
    "    def __init__(self):\n",
    "        self.indices = [0,0]\n",
    "        self.caudal = 0\n",
    "        self.temperatura = 0\n",
    "        self.presiones_abs = [0,0,0,0,0]\n",
    "    def data(self,PT_s,TE_s,Caudal):\n",
    "        self.presiones_abs = PT_s[:,self.indices[0]:self.indices[1]].mean(1)\n",
    "        self.temperaturas = TE_s[:,self.indices[0]:self.indices[1]].mean(1)\n",
    "        self.caudal = Caudal[self.indices[0]:self.indices[1]].mean()\n",
    "        "
   ]
  },
  {
   "cell_type": "code",
   "execution_count": 52,
   "id": "92e57c6d-cdc3-4fd5-b61b-ad77153cb9ad",
   "metadata": {},
   "outputs": [],
   "source": [
    "ni = 0\n",
    "ensayos = []\n",
    "for i,picoi in enumerate(picos[0]):\n",
    "    ensayos.append(ensayo())\n",
    "    nf = picoi\n",
    "    ensayos[i].indices = [ni,nf]\n",
    "    ensayos[i].data(PT_s,TE_s,Caudal)\n",
    "    ni = nf+1\n",
    "Caudales_ensayados = []\n",
    "for i, ensayoi in enumerate(ensayos):\n",
    "        Caudales_ensayados.append(ensayoi.caudal)\n",
    "Caudales_ensayados = np.asarray(Caudales_ensayados)\n"
   ]
  },
  {
   "cell_type": "code",
   "execution_count": 53,
   "id": "33da33a6-d0d4-4acb-b0c0-316f7d772f6a",
   "metadata": {},
   "outputs": [
    {
     "data": {
      "application/vnd.jupyter.widget-view+json": {
       "model_id": "34ce4dfce9b6479ca211d42149f658d0",
       "version_major": 2,
       "version_minor": 0
      },
      "text/plain": [
       "Canvas(toolbar=Toolbar(toolitems=[('Home', 'Reset original view', 'home', 'home'), ('Back', 'Back to previous …"
      ]
     },
     "metadata": {},
     "output_type": "display_data"
    }
   ],
   "source": [
    "fig,ax = plt.subplots(figsize=(6,3))\n",
    "ax.plot(time1,PT_s.T);\n",
    "axb = ax.twinx()\n",
    "axb.plot(time1,Caudal,'k--')\n",
    "#ax.set_xlim([0,170])\n",
    "#ax.plot(np.diff(Caudal))\n",
    "picos = find_peaks(np.abs(np.diff(Caudal)),threshold=1)\n",
    "axb.plot(time1[picos[0]], Caudal[picos[0]],'o')\n",
    "for i, ensayoi in enumerate(ensayos[:15]):\n",
    "    indicei = int((ensayoi.indices[0]+ensayoi.indices[1])/2)\n",
    "    axb.plot(time1[indicei], Caudales_ensayados[i],'ko')\n",
    "\n",
    "    #ax.plot(np.tile(time1[indicei],[5,1]),ensayos[i].presiones_abs,'s',fillstyle='none',markersize=10)\n",
    "ax.set_xlim([0,1])\n",
    "ax.set_xlabel('tiempo [h]');\n",
    "ax.set_ylabel('P [psi]')\n",
    "axb.set_ylabel('Caudal [lt/min]')\n",
    "ax.grid();\n",
    "#savetikz('/home/juan/Documents/Publicaciones/2022_Parafinas/Ensayos-Loop-Agosto-2022/salida_calibracion.tikz')"
   ]
  },
  {
   "cell_type": "code",
   "execution_count": 55,
   "id": "f890d033-16b9-476e-8f39-636ac72140ea",
   "metadata": {},
   "outputs": [],
   "source": [
    "indice_ref = np.abs(Caudales_ensayados)[:15].argmin()\n",
    "indice_ref = 0\n",
    "presiones_ref = ensayos[indice_ref].presiones_abs\n",
    "presiones_corr = PT_s - np.tile(presiones_ref,[len(Caudal),1]).T\n"
   ]
  },
  {
   "cell_type": "code",
   "execution_count": 56,
   "id": "32043116-3343-4b1a-8386-55436f8f202b",
   "metadata": {},
   "outputs": [
    {
     "data": {
      "application/vnd.jupyter.widget-view+json": {
       "model_id": "40b2f063b8774a2bbdaa2839ed02a9b3",
       "version_major": 2,
       "version_minor": 0
      },
      "text/plain": [
       "Canvas(toolbar=Toolbar(toolitems=[('Home', 'Reset original view', 'home', 'home'), ('Back', 'Back to previous …"
      ]
     },
     "metadata": {},
     "output_type": "display_data"
    }
   ],
   "source": [
    "fig,ax = plt.subplots()\n",
    "for k in range(5):\n",
    "    ax.plot(time1,presiones_corr[k],label=f'PT-0{k+1:0d}')\n",
    "ax.set_xlim([0,1])\n",
    "ax.legend();"
   ]
  },
  {
   "cell_type": "code",
   "execution_count": 64,
   "id": "9e3d02a8-9d76-4879-9f0d-5f274cac7f97",
   "metadata": {},
   "outputs": [
    {
     "data": {
      "application/vnd.jupyter.widget-view+json": {
       "model_id": "6a0bb8e1556b46b19f2ee184676fba7e",
       "version_major": 2,
       "version_minor": 0
      },
      "text/plain": [
       "Canvas(toolbar=Toolbar(toolitems=[('Home', 'Reset original view', 'home', 'home'), ('Back', 'Back to previous …"
      ]
     },
     "metadata": {},
     "output_type": "display_data"
    },
    {
     "data": {
      "text/plain": [
       "Text(0.5, 0, 'tiempo [h]')"
      ]
     },
     "execution_count": 64,
     "metadata": {},
     "output_type": "execute_result"
    }
   ],
   "source": [
    "fig,ax = plt.subplots()\n",
    "ax.plot(time1,presiones_corr[0]-presiones_corr[1],label=f'(PT-01)-(PT-02)')\n",
    "ax.plot(time1,presiones_corr[3]-presiones_corr[4],label=f'(PT-04)-(PT-05)',linestyle='dashed')\n",
    "ax.set_xlim([0.6,1.6])\n",
    "ax.set_ylim([-2.1,2.1])\n",
    "\n",
    "ax.legend()\n",
    "ax.grid()\n",
    "ax.set_ylabel('[psi]');\n",
    "ax.set_xlabel('tiempo [h]')\n",
    "#savetikz('/home/juan/Documents/Publicaciones/2022_Parafinas/Ensayos-Loop-Agosto-2022/errores_sensores.tikz')"
   ]
  },
  {
   "cell_type": "code",
   "execution_count": 60,
   "id": "eed1d6d9-20f2-4e59-811e-00b35be589c7",
   "metadata": {},
   "outputs": [],
   "source": [
    "\n",
    "indices_ensayos = Caudales_ensayados[:15].argsort()\n",
    "#indices_ensayos = np.delete(indices_ensayos,7)\n",
    "\n",
    "Longitudes = np.array([6532.7,6532.7+290+1590.7+290,6532.7+(290+1590.7+290)*2,\n",
    "                       6532.7+(290+1590.7+290)*2+6518.4])/1000\n",
    "p1,p2,p3,p4,p5,G2 = np.tile(np.zeros_like(Caudales_ensayados[indices_ensayos]),[6,1])\n",
    "for i, caudal in enumerate(Caudales_ensayados[indices_ensayos]):\n",
    "    presiones = ensayos[indices_ensayos[i]].presiones_abs -presiones_ref\n",
    "    G2[i] = caudal*np.abs(caudal)\n",
    "    p1[i],p2[i],p3[i],p4[i],p5[i] = ( presiones[0]-presiones[:5])\n",
    "    #ax.plot(caudal*np.abs(caudal),p4[i],'o')\n",
    "pi_s = [p2,p3,p4,p5]\n",
    "G2s = np.linspace(G2.min(),G2.max(),100)"
   ]
  },
  {
   "cell_type": "code",
   "execution_count": 61,
   "id": "7e0cb8c2-ccf8-44bc-b01e-118f3f5a5cec",
   "metadata": {},
   "outputs": [],
   "source": [
    "#perdidas ecuacion Darcy\n",
    "Tmedia = 13+273\n",
    "rho = densidad_f(Tmedia)\n",
    "mu = viscosidad_f(1/Tmedia)/1000\n",
    "nu = mu/rho\n",
    "delta_p_5 = np.zeros_like(G2)\n",
    "\n",
    "delta_p_5b = np.zeros_like(G2s)\n",
    "for i,G2i in enumerate(G2s):\n",
    "    Ui = ((G2i)**2)**.25/60*1e-3 / (D_interno_1 **2/4*np.pi)\n",
    "    Re_i = Ui*D_interno_1/nu\n",
    "    ff_i = ht.conv_internal.friction_factor(Re_i)\n",
    "    delta_p_5b[i] = (np.abs(G2i)**.5/60*1e-3/(np.pi*D_interno_1**2/4))**2*Longitudes[-1]/D_interno_1*0.5*rho*ff_i*np.sign(G2i)\n",
    "\n",
    "\n",
    "for i,G2i in enumerate(G2):\n",
    "    Ui = ((G2i)**2)**.25/60*1e-3 / (D_interno_1 **2/4*np.pi)\n",
    "    Re_i = Ui*D_interno_1/nu\n",
    "    ff_i = ht.conv_internal.friction_factor(Re_i)\n",
    "    delta_p_5[i] = Ui**2*Longitudes[-1]/D_interno_1*0.5*rho*ff_i*np.sign(G2i)\n",
    "    \n",
    "P1 = np.polyfit(G2,p5,1)\n",
    "p1_f  = np.poly1d(P1)\n",
    "\n",
    "P2 = np.polyfit (-caudales*np.abs(caudales), salida_sensor,1)\n",
    "p2_f = np.poly1d(P2)"
   ]
  },
  {
   "cell_type": "code",
   "execution_count": 63,
   "id": "992ff0af-5c5c-44f7-8c50-17f7e41ebbb8",
   "metadata": {},
   "outputs": [
    {
     "data": {
      "application/vnd.jupyter.widget-view+json": {
       "model_id": "5791cabdf54c4540943b6e5477a83105",
       "version_major": 2,
       "version_minor": 0
      },
      "text/plain": [
       "Canvas(toolbar=Toolbar(toolitems=[('Home', 'Reset original view', 'home', 'home'), ('Back', 'Back to previous …"
      ]
     },
     "metadata": {},
     "output_type": "display_data"
    }
   ],
   "source": [
    "\n",
    "fig,ax = plt.subplots()\n",
    "\n",
    "for i, Li in enumerate(Longitudes[:3]):\n",
    "    P1 = np.polyfit(G2,pi_s[i]/Li,1)\n",
    "    p1_f  = np.poly1d(P1)\n",
    "    lin, = ax.plot(np.abs(G2)**.5*np.sign(G2) ,pi_s[i]/Li,linestyle='',marker=mk[i],markersize=8,fillstyle='none',label=f'(PT-01-PT-0{5-i:0d})/L$_{5-i:0d}$')\n",
    "    ax.plot(np.abs(G2s)**.5*np.sign(G2s),p1_f(G2s),color=lin.get_color(),linewidth=0.5)\n",
    "\n",
    "    \n",
    "    \n",
    "    \n",
    "#lin, = ax.plot(np.abs(G2)**.5*np.sign(G2) ,pi_s[i]/Li,linestyle='',marker=mk[i],markersize=8,fillstyle='none',label=f'(PT-01-PT-0{5-i:0d})/L$_{5-i:0d}$')    \n",
    "#ax.plot( np.abs(G2)**.5*np.sign(G2),delta_p_5/psipa/Longitudes[-1],fillstyle='none',linestyle='',markersize=8,marker='<',label='Darcy eq.',color='black');\n",
    "\n",
    "\n",
    "\n",
    "ax.plot( np.abs(G2s)**.5*np.sign(G2s),delta_p_5b/psipa/Longitudes[-1],fillstyle='none',linestyle='-',linewidth=3,label='Darcy eq.');\n",
    "ax.legend()\n",
    "ax.grid()\n",
    "ax.set_xlabel('[lt/min]$')\n",
    "ax.set_ylabel('[psi/m]');\n",
    "#axb = ax.twinx()\n",
    "#\n",
    "#axb.plot((caudales),-salida_sensor,marker='*',linestyle='',fillstyle='none',markersize=15,label='$\\Delta p$ sensor')\n",
    "#axb.set_ylabel('volts');\n",
    "#axb.legend(loc='lower right');\n",
    "\n",
    "savetikz('/home/juan/Documents/Publicaciones/2022_Parafinas/Ensayos-Loop-Agosto-2022/difrencia_presiones_abs.tikz')"
   ]
  },
  {
   "cell_type": "code",
   "execution_count": null,
   "id": "016a0f09-aa18-475e-8e76-2646ad7dae3b",
   "metadata": {},
   "outputs": [],
   "source": []
  },
  {
   "cell_type": "code",
   "execution_count": 51,
   "id": "42970375-6762-45f2-89af-d072ac005e98",
   "metadata": {},
   "outputs": [
    {
     "name": "stderr",
     "output_type": "stream",
     "text": [
      "/tmp/ipykernel_1137560/711793159.py:1: RuntimeWarning: More than 20 figures have been opened. Figures created through the pyplot interface (`matplotlib.pyplot.figure`) are retained until explicitly closed and may consume too much memory. (To control this warning, see the rcParam `figure.max_open_warning`).\n",
      "  fig,ax = plt.subplots()\n"
     ]
    },
    {
     "data": {
      "application/vnd.jupyter.widget-view+json": {
       "model_id": "0cefb547079f45e2a20652c7026d39b1",
       "version_major": 2,
       "version_minor": 0
      },
      "image/png": "[encoded data removed]",
      "text/html": [
       "\n",
       "            <div style=\"display: inline-block;\">\n",
       "                <div class=\"jupyter-widgets widget-label\" style=\"text-align: center;\">\n",
       "                    Figure\n",
       "                </div>\n",
       "                <img src='data:image/png;base64,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' width=640.0/>\n",
       "            </div>\n",
       "        "
      ],
      "text/plain": [
       "Canvas(toolbar=Toolbar(toolitems=[('Home', 'Reset original view', 'home', 'home'), ('Back', 'Back to previous …"
      ]
     },
     "metadata": {},
     "output_type": "display_data"
    }
   ],
   "source": [
    "fig,ax = plt.subplots()\n",
    "#psipa = 6.89476\n",
    "\n",
    "P1 = np.polyfit(p2_f(G2),p1_f(G2),1)\n",
    "ajuste_f = np.poly1d(P1)\n",
    "ax.plot(p2_f(G2),p1_f(G2),'o',fillstyle='none',markersize=12)\n",
    "ax.plot(p2_f(G2),ajuste_f(p2_f(G2)))\n",
    "ax.text(p2_f(G2)[3],ajuste_f(p2_f(G2))[3]-.1,f'y = {P1[0]:.3f}x{P1[1]:.3f}',fontsize=18)\n",
    "ax.grid()\n",
    "ax.set_xlabel('volts')\n",
    "ax.set_ylabel('[psi]');\n",
    "\n",
    "\n",
    "#savetikz('/home/juan/Documents/Publicaciones/2022_Parafinas/Ensayos-Loop-Agosto-2022/salida_calibracion_deltap_ajuste.tikz')"
   ]
  },
  {
   "cell_type": "markdown",
   "id": "3d1e81a0-4b4f-4a44-a817-ab2ec657390e",
   "metadata": {},
   "source": [
    " \\begin{equation}\n",
    "\t(D_i-2\\delta_w)^{5-n}=\\frac{2c\\rho L}{\\Delta p_f}\\left(\\frac{\\mu}{\\rho}\\right)^n\\left(\\frac{4Q}{\\pi}\\right)^{5-n}\n",
    "\\end{equation}"
   ]
  },
  {
   "cell_type": "code",
   "execution_count": 135,
   "id": "5155171d-a884-4696-8289-c7be5041125f",
   "metadata": {},
   "outputs": [
    {
     "data": {
      "text/latex": [
       "$\\Delta P_f = $ 3.83e-10"
      ],
      "text/plain": [
       "<IPython.core.display.Latex object>"
      ]
     },
     "metadata": {},
     "output_type": "display_data"
    },
    {
     "data": {
      "text/plain": [
       "(0.5522644553228416, 0.9052987423144022)"
      ]
     },
     "execution_count": 135,
     "metadata": {},
     "output_type": "execute_result"
    }
   ],
   "source": [
    "delta_w = 1e-3\n",
    "G = 3/1000/60\n",
    "Area = D_interno_1**2*np.pi/4\n",
    "Area2 = (D_interno_1-2*delta_w)**2*np.pi/4\n",
    "\n",
    "U = G/Area\n",
    "U2 = G/Area2\n",
    "\n",
    "Re = U * D_interno_1/(mu/rho)\n",
    "Re2  = (U2 * D_interno_1-2*delta_w)/(mu/rho)\n",
    "\n",
    "f = 64/Re\n",
    "f2 = 64/Re2\n",
    "\n",
    "deltap1 = Li/D_interno_1 * rho/2*U**2*f/psipa\n",
    "deltap2 = Li/(D_interno_1-2*delta_w) * rho/2*U2**2*f/psipa\n",
    "\n",
    "\n",
    "\n",
    "c = 64; n = 1;\n",
    "aux1  = 2*c*rho*Li*(mu/rho)**n*(4*G/np.pi)**(5-n)\n",
    "aux2 = (D_interno_1-2*delta_w)**(5-n)\n",
    "deltap_f1 = aux1/aux2\n",
    "display(Latex(f'$\\Delta P_f = $ {deltap_f1:.3g}'))\n",
    "\n",
    "deltap1,deltap2\n",
    "\n",
    "1/ajuste_f[1]*deltap1, 1/ajuste_f[1]*deltap2"
   ]
  },
  {
   "cell_type": "code",
   "execution_count": 198,
   "id": "8a09d824-bbba-4db9-936c-76368bb4eef6",
   "metadata": {},
   "outputs": [],
   "source": [
    "#outputw = widgets.Output()\n",
    "output_deltap = widgets.HBox(layout={'border': '4px solid black'})\n",
    "caudal_i = widgets.FloatSlider( value=5,     min=1,     max=25.0,     step=0.1,     \n",
    "    disabled=False,      orientation='horizontal',     readout=True,\n",
    "    readout_format='.1f',description='Caudal [lt/min]' )\n",
    "\n",
    "espesor_w_i = widgets.FloatSlider( value=1,     min=1,     max=4,     step=0.1, \n",
    "      description='delta_w [mm]', disabled=False,     orientation='horizontal',     readout=True,\n",
    "    readout_format='.1f' )\n",
    "boton_calcula = widgets.Button(description='calcula')\n",
    "salida_presion = widgets.Label(value='$\\Delta p_0=$')\n",
    "salida_presion.layout=widgets.Layout(width='100px')\n",
    "\n",
    "salida_presion_w = widgets.Label(value='$\\Delta p_w=$')\n",
    "salida_presion_w.layout=widgets.Layout(width='100px')\n",
    "\n",
    "salida_tension = widgets.Label(value='$V_0=$')\n",
    "salida_tension.layout=widgets.Layout(width='100px')\n",
    "\n",
    "salida_tension_w = widgets.Label(value='$V_w=$')\n",
    "salida_tension_w.layout=widgets.Layout(width='100px')\n",
    "\n",
    "\n",
    "def f_calcula(b=1):\n",
    "    delta_w = espesor_w_i.value*1e-3\n",
    "    G = caudal_i.value/1000/60\n",
    "    Area = D_interno_1**2*np.pi/4\n",
    "    Area2 = (D_interno_1-2*delta_w)**2*np.pi/4\n",
    "\n",
    "    U = G/Area\n",
    "    U2 = G/Area2\n",
    "\n",
    "    Re = U * D_interno_1/(mu/rho)\n",
    "    Re2  = (U2 * D_interno_1-2*delta_w)/(mu/rho)\n",
    "\n",
    "    f = 64/Re\n",
    "    f2 = 64/Re2\n",
    "\n",
    "    deltap1 = Li/D_interno_1 * rho/2*U**2*f/psipa\n",
    "    deltap2 = Li/(D_interno_1-2*delta_w) * rho/2*U2**2*f/psipa\n",
    "\n",
    "\n",
    "\n",
    "    c = 64; n = 1;\n",
    "    aux1  = 2*c*rho*Li*(mu/rho)**n*(4*G/np.pi)**(5-n)\n",
    "    aux2 = (D_interno_1-2*delta_w)**(5-n)\n",
    "    deltap_f1 = aux1/aux2\n",
    "    display(Latex(f'$\\Delta P_f = $ {deltap1:.3g}'))\n",
    "    salida_presion.value = f'$\\Delta p_0 = $ {deltap1:.2f} psi'\n",
    "    salida_presion_w.value = f'$\\Delta p_w = $ {deltap2:.2f} psi'\n",
    "    V0,Vw = [1/ajuste_f[1]*deltap1, 1/ajuste_f[1]*deltap2]\n",
    "    salida_tension.value = f'$V_0 = $ {V0:.2f} volt'\n",
    "    salida_tension_w.value = f'$V_w = $ {Vw:.2f} volt'\n",
    "    return deltap1,deltap2\n",
    "\n",
    "#box_layout = widgets.Layout()\n",
    "boton_calcula.on_click(f_calcula)\n",
    "parametros_input = widgets.VBox() \n",
    "parametros_input.children = ([caudal_i,espesor_w_i])\n",
    "panel_control = widgets.VBox(layout={'border': '1px solid black'})\n",
    "panel_salida_p = widgets.VBox(layout={'border': '1px solid black'})\n",
    "panel_salida_v = widgets.VBox(layout={'border': '1px solid black'})\n",
    "panel_control.children = ([ parametros_input,boton_calcula])\n",
    "panel_salida_p.children = ([ salida_presion,salida_presion_w])\n",
    "panel_salida_v.children = ([ salida_tension,salida_tension_w])\n",
    "output_deltap.children = ([panel_control,panel_salida_p,panel_salida_v]) "
   ]
  },
  {
   "cell_type": "code",
   "execution_count": 199,
   "id": "1e6852bc-f809-4848-8fdc-e475e41e19e2",
   "metadata": {},
   "outputs": [
    {
     "data": {
      "application/vnd.jupyter.widget-view+json": {
       "model_id": "22cf7d49a18e48b1a111f8cb850f049b",
       "version_major": 2,
       "version_minor": 0
      },
      "text/plain": [
       "HBox(children=(VBox(children=(VBox(children=(FloatSlider(value=5.0, description='Caudal [lt/min]', max=25.0, m…"
      ]
     },
     "metadata": {},
     "output_type": "display_data"
    }
   ],
   "source": [
    "display(output_deltap)"
   ]
  },
  {
   "cell_type": "code",
   "execution_count": 168,
   "id": "4ee2aa94-5e7f-4e3c-bd14-b6d688e0fadd",
   "metadata": {},
   "outputs": [],
   "source": []
  },
  {
   "cell_type": "code",
   "execution_count": null,
   "id": "907f4248-66e8-4bf6-a704-2e2a3d4d7739",
   "metadata": {},
   "outputs": [],
   "source": []
  }
 ],
 "metadata": {
  "kernelspec": {
   "display_name": "Python 3",
   "language": "python",
   "name": "python3"
  },
  "language_info": {
   "codemirror_mode": {
    "name": "ipython",
    "version": 3
   },
   "file_extension": ".py",
   "mimetype": "text/x-python",
   "name": "python",
   "nbconvert_exporter": "python",
   "pygments_lexer": "ipython3",
   "version": "3.8.8"
  },
  "latex_envs": {
   "LaTeX_envs_menu_present": true,
   "autoclose": true,
   "autocomplete": true,
   "bibliofile": "biblio.bib",
   "cite_by": "apalike",
   "current_citInitial": 1,
   "eqLabelWithNumbers": true,
   "eqNumInitial": 1,
   "hotkeys": {
    "equation": "Ctrl-E",
    "itemize": "Ctrl-I"
   },
   "labels_anchors": false,
   "latex_user_defs": false,
   "report_style_numbering": false,
   "user_envs_cfg": false
  },
  "papermill": {
   "default_parameters": {},
   "duration": 23.771076,
   "end_time": "2021-05-30T21:24:22.664715",
   "environment_variables": {},
   "exception": null,
   "input_path": "__notebook__.ipynb",
   "output_path": "__notebook__.ipynb",
   "parameters": {},
   "start_time": "2021-05-30T21:23:58.893639",
   "version": "2.3.3"
  }
 },
 "nbformat": 4,
 "nbformat_minor": 5
}
