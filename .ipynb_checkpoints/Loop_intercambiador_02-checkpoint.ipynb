{
 "cells": [
  {
   "cell_type": "code",
   "execution_count": 1,
   "id": "61c7d36d",
   "metadata": {
    "_kg_hide-input": true,
    "_kg_hide-output": true,
    "papermill": {
     "duration": 12.40044,
     "end_time": "2021-05-30T21:24:18.188788",
     "exception": false,
     "start_time": "2021-05-30T21:24:05.788348",
     "status": "completed"
    },
    "tags": []
   },
   "outputs": [],
   "source": [
    "%%capture\n",
    "!pip install ht CoolProp fluids xlrd xlwt"
   ]
  },
  {
   "cell_type": "code",
   "execution_count": 1,
   "id": "693fee3f",
   "metadata": {
    "_cell_guid": "b1076dfc-b9ad-4769-8c92-a6c4dae69d19",
    "_kg_hide-input": true,
    "_kg_hide-output": true,
    "_uuid": "8f2839f25d086af736a60e9eeb907d3b93b6e0e5",
    "papermill": {
     "duration": 0.12376,
     "end_time": "2021-05-30T21:24:18.340027",
     "exception": false,
     "start_time": "2021-05-30T21:24:18.216267",
     "status": "completed"
    },
    "tags": []
   },
   "outputs": [],
   "source": [
    "%matplotlib widget\n",
    "import numpy as np # linear algebra\n",
    "import pandas as pd # data processing, CSV file I/O (e.g. pd.read_csv)\n",
    "import xlwt as xw\n",
    "lista_data = []\n",
    "import matplotlib.pyplot as plt\n",
    "import ht,fluids,os,socket\n",
    "import CoolProp as cp\n",
    "from IPython.display import Latex\n",
    "from prop_fluidos_intercambiadores import fluido_intercambiador\n",
    "import time,datetime"
   ]
  },
  {
   "cell_type": "markdown",
   "id": "92643a95",
   "metadata": {
    "papermill": {
     "duration": 0.026188,
     "end_time": "2021-05-30T21:24:18.392866",
     "exception": false,
     "start_time": "2021-05-30T21:24:18.366678",
     "status": "completed"
    },
    "tags": []
   },
   "source": [
    "## Intercambiador de Calor\n",
    "#### HIPOTESIS DE CALCULO:\n",
    "\n",
    "\n",
    "1. Intercambiador de calor a contracorriente de tubos concéntricos\n"
   ]
  },
  {
   "cell_type": "code",
   "execution_count": 2,
   "id": "233ab09a-847a-48bb-b747-05aed366a11a",
   "metadata": {},
   "outputs": [],
   "source": [
    "#datos valores sin flujo\n",
    "PT01_ref,PT02_ref,PT03_ref,PT04_ref,PT05_ref,PT06_ref, = [6.55, -1.15, 1.4, 0.35, 6.15, -0.25]"
   ]
  },
  {
   "cell_type": "code",
   "execution_count": 3,
   "id": "0fcfde2a",
   "metadata": {
    "papermill": {
     "duration": 0.040034,
     "end_time": "2021-05-30T21:24:18.511413",
     "exception": false,
     "start_time": "2021-05-30T21:24:18.471379",
     "status": "completed"
    },
    "tags": []
   },
   "outputs": [],
   "source": [
    "#constantes de calculo\n",
    "g = 9.8; cal2joule = 4.184\n",
    "###########################################################\n",
    "#           DATOS  del Intercambiador  \n",
    "###########################################################\n",
    "# Definición de Flujos\n",
    "#Crudo = fluido_intercambiador('Crudo') \n",
    "#Glicol = fluido_intercambiador('Glycol')\n",
    "# Temperaturas\n",
    "T_crudo_e = 55.8 ##(al menos Twat + 20)\n",
    "T_crudo_WAT = 32\n",
    "T_crudo_s = T_crudo_WAT-10\n",
    "T_crudo_s = 52.5\n",
    "\n",
    "T_glycol_e = 38.8\n",
    "T_glycol_s = 40\n",
    "Caudal_crudo = 2.265 * 1e-3/60  #20L/min en m3/s\n",
    "\n",
    "D_externo_1 = 33.44e-3\n",
    "\n",
    "#Considerando Schedule 160 (para soportar 150psi)\n",
    "espesor_tubo_1 = 6.35e-3\n",
    "\n",
    "D_interno_1 = D_externo_1-2*espesor_tubo_1\n",
    "\n",
    "\n",
    "D_externo_2 = 114.3e-3\n",
    "espesor_tubo_2 = 6.02\n",
    "#Supongo Schedule STD, presion de trabajo 40 psi\n",
    "D_interno_2 = D_externo_2-2*espesor_tubo_2\n",
    "Longitud = 16"
   ]
  },
  {
   "cell_type": "code",
   "execution_count": 4,
   "id": "ff46e8c1-1aa7-4f69-9aa6-4f93d982a6f9",
   "metadata": {},
   "outputs": [],
   "source": [
    "A = pd.read_excel('150202_jd.xlsx',thousands=',')\n",
    "A = pd.read_excel('150203.H24.xlsx',thousands=',')\n",
    "A = pd.read_excel('DATOS DIESEL 17-08-2022.xlsx',thousands=',')\n",
    "A = A[:944]\n",
    "A.drop(A.columns[[1]],axis=1,inplace=True)"
   ]
  },
  {
   "cell_type": "code",
   "execution_count": 5,
   "id": "a7afe83e-5a33-4952-a7a2-bbbd49300aa4",
   "metadata": {},
   "outputs": [],
   "source": [
    "indices1 = np.logical_not(A['Date/Time'].isnull())\n",
    "A1 = A[indices1]\n",
    "indices2 = np.logical_not(A1['PT-01'].isnull())\n",
    "A2 = A1[indices2]\n",
    "indices3 = np.logical_not(np.logical_or(A2['PT-01'] == '???', A2['PT-01']=='?????'))\n",
    "A3 = A2[indices3]\n",
    "\n",
    "\n",
    "# variable tiempo\n",
    "time1 = pd.to_datetime(A3['Date/Time'],errors='ignore').to_numpy()\n",
    "time1 = [time1i.hour*3600+time1i.minute*60+time1i.second for time1i in time1]\n",
    "\n",
    "#variables presion\n",
    "PT01,PT02,PT03,PT04,PT05,PT06  = [pd.to_numeric(A3.iloc[:,i].to_numpy()) for i in range(1,7)]\n",
    "\n",
    "PT01 = PT01 - PT01_ref\n",
    "PT02 = PT02 - PT02_ref\n",
    "PT03 = PT03 - PT03_ref\n",
    "PT04 = PT04 - PT04_ref\n",
    "PT05 = PT05 - PT05_ref\n",
    "PT06 = PT06 - PT06_ref\n",
    "\n",
    "# variables temperaturas\n",
    "TE_s = np.tile(np.zeros_like(PT01),[12,1])\n",
    "for i in range(9,21):\n",
    "    TE_s[i-9] = pd.to_numeric(A3.iloc[:,i].to_numpy()) \n",
    "# variable caudal\n",
    "# para -175 motor corresponde 2.465 l/min\n",
    "Vmotor = pd.to_numeric(A3.iloc[:,30].to_numpy()) \n",
    "Tchiller_pv, Tchiller_sp = [pd.to_numeric(A3.iloc[:,i].to_numpy(),errors='ignore') for i in range(27,29)]\n",
    "Tchiller_pv[Tchiller_pv =='???'] = np.NaN\n",
    "Tchiller_sp[Tchiller_sp =='???'] = np.NaN"
   ]
  },
  {
   "cell_type": "code",
   "execution_count": 6,
   "id": "54ff2057-3be0-4adc-a6dd-bffa22c068e3",
   "metadata": {},
   "outputs": [
    {
     "data": {
      "application/vnd.jupyter.widget-view+json": {
       "model_id": "080141f3ab534d8f874ced1805b62b1d",
       "version_major": 2,
       "version_minor": 0
      },
      "text/plain": [
       "Canvas(toolbar=Toolbar(toolitems=[('Home', 'Reset original view', 'home', 'home'), ('Back', 'Back to previous …"
      ]
     },
     "metadata": {},
     "output_type": "display_data"
    }
   ],
   "source": [
    "fig, ax = plt.subplots(1,2,figsize=(7.75,3))\n",
    "ax1,ax2 = ax\n",
    "ax1.plot(time1,PT01,label = 'PT-01')\n",
    "ax1.plot(time1,PT02,label = 'PT-02')\n",
    "ax1.plot(time1,PT03,label = 'PT-03')\n",
    "ax1.plot(time1,PT04,label = 'PT-04')\n",
    "ax1.grid()\n",
    "ax1.set_ylabel('psi',rotation=0)\n",
    "ax1.set_xlabel('sec')\n",
    "ax1.legend();\n",
    "ax2.plot(time1,TE_s[0],label = 'TE-01')\n",
    "ax2.plot(time1,TE_s[1],label = 'TE-02')\n",
    "ax2.plot(time1,TE_s[2],label = 'TE-03')\n",
    "ax2.plot(time1,TE_s[11],label = 'TE-04')\n",
    "ax2.grid()\n",
    "ax2.set_ylabel(f'$^\\circ$C',rotation=0)\n",
    "ax2.set_xlabel('sec')\n",
    "ax2.legend();"
   ]
  },
  {
   "cell_type": "code",
   "execution_count": 7,
   "id": "a91cd883-ef4c-410b-837c-b38e10e4274d",
   "metadata": {},
   "outputs": [
    {
     "data": {
      "application/vnd.jupyter.widget-view+json": {
       "model_id": "025b16e64b8447f58cb37464dd6a35a0",
       "version_major": 2,
       "version_minor": 0
      },
      "text/plain": [
       "Canvas(toolbar=Toolbar(toolitems=[('Home', 'Reset original view', 'home', 'home'), ('Back', 'Back to previous …"
      ]
     },
     "metadata": {},
     "output_type": "display_data"
    },
    {
     "data": {
      "text/plain": [
       "[<matplotlib.lines.Line2D at 0x7f9e08fe1d30>]"
      ]
     },
     "execution_count": 7,
     "metadata": {},
     "output_type": "execute_result"
    }
   ],
   "source": [
    "fig, ax = plt.subplots(1,2,figsize=(7.75,3))\n",
    "ax1,ax2 = ax\n",
    "ax1.plot(PT03,label = 'PT-01')\n",
    "ax1.plot(TE_s[1],label = 'TE-02')\n",
    "ax2.plot(np.asarray(time1)/60)\n",
    "#delta t = 30segundos"
   ]
  },
  {
   "cell_type": "code",
   "execution_count": 8,
   "id": "e91632c6-a782-4306-a49c-c01a88f48df2",
   "metadata": {},
   "outputs": [
    {
     "data": {
      "application/vnd.jupyter.widget-view+json": {
       "model_id": "910b637252d9414398c598a674901aa4",
       "version_major": 2,
       "version_minor": 0
      },
      "text/plain": [
       "Canvas(toolbar=Toolbar(toolitems=[('Home', 'Reset original view', 'home', 'home'), ('Back', 'Back to previous …"
      ]
     },
     "metadata": {},
     "output_type": "display_data"
    },
    {
     "data": {
      "text/plain": [
       "<matplotlib.legend.Legend at 0x7f9e09a96d00>"
      ]
     },
     "execution_count": 8,
     "metadata": {},
     "output_type": "execute_result"
    }
   ],
   "source": [
    "#EXPERIENCIA 1\n",
    "# 458 HASTA 653\n",
    "n_inicio,n_final = [458,653]\n",
    "fig,ax = plt.subplots(clear=True)\n",
    "ax.plot(time1[n_inicio:n_final],PT01[n_inicio:n_final],label='PT-01')\n",
    "ax.plot(time1[n_inicio:n_final],PT02[n_inicio:n_final],label='PT-02');\n",
    "ax.plot(time1[n_inicio:n_final],PT03[n_inicio:n_final],label='PT-03');\n",
    "ax.plot(time1[n_inicio:n_final],PT04[n_inicio:n_final],label='PT-04');\n",
    "ax.plot(time1[n_inicio:n_final],PT05[n_inicio:n_final],label='PT-05')\n",
    "ax.plot(time1[n_inicio:n_final],PT06[n_inicio:n_final],label='PT-06')\n",
    "\n",
    "ax.legend(ncol=4)"
   ]
  },
  {
   "cell_type": "markdown",
   "id": "3a29a2e0-cf16-4478-b3ce-086746e4c634",
   "metadata": {},
   "source": [
    "![Interfase ADQ](referencias.png)"
   ]
  },
  {
   "cell_type": "code",
   "execution_count": 14,
   "id": "44e9cac4-153b-40ee-8e96-97c20dbbf58c",
   "metadata": {},
   "outputs": [
    {
     "data": {
      "text/plain": [
       "<matplotlib.legend.Legend at 0x7f3cd3194c40>"
      ]
     },
     "execution_count": 14,
     "metadata": {},
     "output_type": "execute_result"
    },
    {
     "data": {
      "application/vnd.jupyter.widget-view+json": {
       "model_id": "6421aba192c246f089defbffa44bad35",
       "version_major": 2,
       "version_minor": 0
      },
      "image/png": "[encoded data removed]",
      "text/html": [
       "\n",
       "            <div style=\"display: inline-block;\">\n",
       "                <div class=\"jupyter-widgets widget-label\" style=\"text-align: center;\">\n",
       "                    Figure\n",
       "                </div>\n",
       "                <img src='data:image/png;base64,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' width=640.0/>\n",
       "            </div>\n",
       "        "
      ],
      "text/plain": [
       "Canvas(toolbar=Toolbar(toolitems=[('Home', 'Reset original view', 'home', 'home'), ('Back', 'Back to previous …"
      ]
     },
     "metadata": {},
     "output_type": "display_data"
    }
   ],
   "source": [
    "#EXPERIENCIA 2\n",
    "# 655 HASTA 700\n",
    "n_inicio,n_final = [655,870]\n",
    "fig2,ax2 = plt.subplots(clear=True)\n",
    "ax2.plot(time1[n_inicio:n_final],PT01[n_inicio:n_final],label='PT-01')\n",
    "ax2.plot(time1[n_inicio:n_final],PT02[n_inicio:n_final],label='PT-02');\n",
    "ax2.plot(time1[n_inicio:n_final],PT03[n_inicio:n_final],label='PT-03');\n",
    "ax2.plot(time1[n_inicio:n_final],PT04[n_inicio:n_final],label='PT-04');\n",
    "ax2.plot(time1[n_inicio:n_final],PT05[n_inicio:n_final],label='PT-05')\n",
    "ax2.plot(time1[n_inicio:n_final],PT06[n_inicio:n_final],label='PT-06')\n",
    "\n",
    "ax2.legend(ncol=4)"
   ]
  },
  {
   "cell_type": "code",
   "execution_count": 10,
   "id": "7ed9e7fa-3f61-489d-8444-9054240082c5",
   "metadata": {},
   "outputs": [],
   "source": [
    "# Propiedades Físicas\n",
    "T_crudo_media = (T_crudo_e+T_crudo_s)/2\n",
    "T_glycol_media = (T_glycol_e+T_glycol_s)/2  # en caso de faltar un temperatura, tomar de la otra corriente\n",
    "\n",
    "Cp_crudo = 2100 # [J/Kg K]\n",
    "Cp_glycol = cp.CoolProp.PropsSI('C','T',273+T_glycol_media,'P',101325,'INCOMP::MEG[0.50]')\n",
    "rho_crudo = 850\n",
    "rho_glycol = cp.CoolProp.PropsSI('D','T',273+ T_glycol_media,'P',101325,'INCOMP::MEG[0.50]')\n",
    "mu_crudo  = cp.CoolProp.PropsSI('V','T',273+T_crudo_media,'P',101325,'Water')*10\n",
    "mu_glycol = cp.CoolProp.PropsSI('V','T',273+T_glycol_media,'P',101325,'INCOMP::MEG[0.50]')\n",
    "nu_crudo = mu_crudo/rho_crudo\n",
    "nu_glycol = mu_glycol/rho_glycol\n",
    "k_crudo = 0.13\n",
    "k_glycol = cp.CoolProp.PropsSI('L','T',273+T_glycol_media,'P',101325,'INCOMP::MEG[0.50]')\n",
    "a_crudo = k_crudo/(rho_crudo*Cp_crudo)    #difusividad térmica\n",
    "a_glycol = k_glycol/(rho_glycol*Cp_glycol)\n",
    "\n",
    "Pr_crudo = nu_crudo/a_crudo\n",
    "Pr_glycol = nu_glycol / a_glycol\n",
    "\n",
    "Pr_glycol2 = cp.CoolProp.PropsSI('Prandtl','T',273+T_glycol_media,'P',101325,'INCOMP::MEG[0.50]')"
   ]
  },
  {
   "cell_type": "markdown",
   "id": "53cd83cc-7b3b-493e-82ef-862833461639",
   "metadata": {},
   "source": [
    "[datos](https://material-properties.org/es/combustible-diesel-densidad-punto-de-fusion-conductividad-termica/)"
   ]
  },
  {
   "cell_type": "code",
   "execution_count": 11,
   "id": "6d2b52b3-7c17-4ab3-a8da-132c1981f4e1",
   "metadata": {},
   "outputs": [
    {
     "data": {
      "text/latex": [
       "Calor Intercambiado: $Q=0.22$kW"
      ],
      "text/plain": [
       "<IPython.core.display.Latex object>"
      ]
     },
     "metadata": {},
     "output_type": "display_data"
    }
   ],
   "source": [
    "Q_crudo = Cp_crudo*Caudal_crudo*rho_crudo*(T_crudo_e-T_crudo_s)\n",
    "Q_glycol = Q_crudo\n",
    "Caudal_glycol = Q_glycol / (Cp_glycol*(T_glycol_s-T_glycol_e) *rho_glycol)\n",
    "display(Latex(f'Calor Intercambiado: $Q={Q_crudo*1e-3:.2f}$kW'))"
   ]
  },
  {
   "cell_type": "code",
   "execution_count": 12,
   "id": "17e4398b-1ff2-4dbf-89fc-417f339c50f4",
   "metadata": {},
   "outputs": [
    {
     "data": {
      "text/plain": [
       "[67.38375, 185.30531249999945]"
      ]
     },
     "execution_count": 12,
     "metadata": {},
     "output_type": "execute_result"
    }
   ],
   "source": [
    "[Cp_crudo*Caudal_crudo*rho_crudo,Cp_glycol*Caudal_glycol*rho_glycol]"
   ]
  },
  {
   "cell_type": "markdown",
   "id": "f9db9180",
   "metadata": {
    "papermill": {
     "duration": 0.026308,
     "end_time": "2021-05-30T21:24:18.617700",
     "exception": false,
     "start_time": "2021-05-30T21:24:18.591392",
     "status": "completed"
    },
    "tags": []
   },
   "source": [
    "### Eficiencia térmica. Calor Intercambiado."
   ]
  },
  {
   "cell_type": "code",
   "execution_count": 15,
   "id": "7bb6e53c",
   "metadata": {
    "papermill": {
     "duration": 0.036227,
     "end_time": "2021-05-30T21:24:18.680611",
     "exception": false,
     "start_time": "2021-05-30T21:24:18.644384",
     "status": "completed"
    },
    "tags": []
   },
   "outputs": [
    {
     "name": "stdout",
     "output_type": "stream",
     "text": [
      "Capacidad Térmica Mínima Cmin = 67.4 W/K\n",
      "Fluido Cmin: Crudo\n",
      "Calor Máximo disponible Qmax=1.1 kW\n",
      "Eficiencia térmica del equipo = 0.19\n"
     ]
    }
   ],
   "source": [
    "#Capacidad Térmica Mínima\n",
    "Capacidades_termicas = np.array([Cp_crudo*Caudal_crudo*rho_crudo,Cp_glycol*Caudal_glycol*rho_glycol])\n",
    "Fluidos = ['Crudo','Glycol']\n",
    "Cmin = np.min(Capacidades_termicas)\n",
    "fluido_cmin = Fluidos[np.argmin(Capacidades_termicas)]\n",
    "#Mayor Salto Térmico del sistema\n",
    "DeltaT_max = T_crudo_e- T_glycol_e\n",
    "#Calor Máximo disponible\n",
    "Qmax = Cmin*DeltaT_max\n",
    "#ficiencia térmica\n",
    "eficiencia = Q_crudo/Qmax\n",
    "\n",
    " \n",
    "print(f'Capacidad Térmica Mínima Cmin = %.1f W/K'%Cmin)\n",
    "print(f'Fluido Cmin: '+fluido_cmin)\n",
    "print(f'Calor Máximo disponible Qmax=%.1f kW'%(Qmax*1e-3))\n",
    "print(f'Eficiencia térmica del equipo = %.2f'%eficiencia)\n"
   ]
  },
  {
   "cell_type": "markdown",
   "id": "d819fd61",
   "metadata": {
    "papermill": {
     "duration": 0.026476,
     "end_time": "2021-05-30T21:24:18.733833",
     "exception": false,
     "start_time": "2021-05-30T21:24:18.707357",
     "status": "completed"
    },
    "tags": []
   },
   "source": [
    "## LMTD, área y Coeficiente Global \n"
   ]
  },
  {
   "cell_type": "code",
   "execution_count": 17,
   "id": "1916c2e0",
   "metadata": {
    "papermill": {
     "duration": 0.053378,
     "end_time": "2021-05-30T21:24:18.823659",
     "exception": false,
     "start_time": "2021-05-30T21:24:18.770281",
     "status": "completed"
    },
    "tags": []
   },
   "outputs": [
    {
     "data": {
      "text/latex": [
       "Conductancia Global U=11.8W/m$^2$"
      ],
      "text/plain": [
       "<IPython.core.display.Latex object>"
      ]
     },
     "metadata": {},
     "output_type": "display_data"
    },
    {
     "data": {
      "text/latex": [
       "Velocidad crudo $V_{crudo}=0.075$m/s"
      ],
      "text/plain": [
       "<IPython.core.display.Latex object>"
      ]
     },
     "metadata": {},
     "output_type": "display_data"
    },
    {
     "data": {
      "text/latex": [
       "Velocidad crudo $V_{glycol}=0.007$m/s"
      ],
      "text/plain": [
       "<IPython.core.display.Latex object>"
      ]
     },
     "metadata": {},
     "output_type": "display_data"
    }
   ],
   "source": [
    "LMTD = ht.LMTD(Tci=T_glycol_e, Tco=T_glycol_s, Thi=T_crudo_e, Tho=T_crudo_s)\n",
    "\n",
    "Area = D_interno*np.pi*Longitud\n",
    "#######################\n",
    "U = Q_crudo/(LMTD*Area)\n",
    "\n",
    "display(Latex(f'Conductancia Global U={U:.1f}W/m$^2$'))\n",
    "\n",
    "Area_pasaje_crudo = (D_interno**2*np.pi/4)\n",
    "Veloc_crudo = Caudal_crudo / Area_pasaje_crudo\n",
    "\n",
    "Area_pasaje_glycol = ( (D_externo**2-D_interno**2)*np.pi/4)\n",
    "Perimetro_glycol = D_interno*np.pi+D_externo*np.pi\n",
    "\n",
    "Veloc_glycol  = Caudal_glycol / Area_pasaje_glycol\n",
    "\n",
    "\n",
    "D_hidraulico_glycol = 4*Area_pasaje_glycol / Perimetro_glycol\n",
    "\n",
    "display(Latex(f'Velocidad crudo $V_{{crudo}}={Veloc_crudo:.3f}$m/s'))\n",
    "display(Latex(f'Velocidad crudo $V_{{glycol}}={Veloc_glycol:.3f}$m/s'))\n",
    "\n",
    "\n",
    "#Aire.veloc = Aire.caudal / Aire.area\n",
    "#Aire.Reynolds()\n",
    "#Npasotubos =  Re_design*(np.pi*Tubo_dext-Tubo_esp*2*Ntubos_0*m ) / (4*m_t)"
   ]
  },
  {
   "cell_type": "markdown",
   "id": "fdb5ff54",
   "metadata": {
    "papermill": {
     "duration": 0.027009,
     "end_time": "2021-05-30T21:24:19.006551",
     "exception": false,
     "start_time": "2021-05-30T21:24:18.979542",
     "status": "completed"
    },
    "tags": []
   },
   "source": [
    "ŽUKAUSKAS, A. Heat transfer from tubes in crossflow. En Advances in heat transfer. Elsevier, 1972. p. 93-160."
   ]
  },
  {
   "cell_type": "code",
   "execution_count": 18,
   "id": "c94a1b95",
   "metadata": {
    "papermill": {
     "duration": 0.03529,
     "end_time": "2021-05-30T21:24:19.069169",
     "exception": false,
     "start_time": "2021-05-30T21:24:19.033879",
     "status": "completed"
    },
    "tags": []
   },
   "outputs": [
    {
     "data": {
      "text/latex": [
       "$Re_{crudo}=314$,$Nu_{crudo}=10.0$, $hc_{crudo}=51$"
      ],
      "text/plain": [
       "<IPython.core.display.Latex object>"
      ]
     },
     "metadata": {},
     "output_type": "display_data"
    },
    {
     "data": {
      "text/latex": [
       "$Re_{glycol}=254$,    $Nu_{glycol}=5.1$,$hc_{glycol}=27$"
      ],
      "text/plain": [
       "<IPython.core.display.Latex object>"
      ]
     },
     "metadata": {},
     "output_type": "display_data"
    }
   ],
   "source": [
    "Re_crudo = Veloc_crudo * D_interno / nu_crudo\n",
    "Re_glycol = Veloc_glycol * D_hidraulico_glycol / nu_glycol\n",
    "Nu_crudo = ht.conv_internal.turbulent_Colburn(Re_crudo,Pr_crudo)\n",
    "Nu_glycol = ht.conv_internal.turbulent_Colburn(Re_glycol,Pr_glycol)\n",
    "hc_crudo = Nu_crudo*k_crudo/D_interno\n",
    "hc_glycol = Nu_glycol*k_glycol/D_hidraulico_glycol\n",
    "display(Latex(f'$Re_{{crudo}}={Re_crudo:.0f}$,$Nu_{{crudo}}={Nu_crudo:.1f}$, $hc_{{crudo}}={hc_crudo:.0f}$'))\n",
    "display(Latex(f'$Re_{{glycol}}={Re_glycol:.0f}$,    $Nu_{{glycol}}={Nu_glycol:.1f}$,$hc_{{glycol}}={hc_glycol:.0f}$'))\n",
    "#print('Coeficiente conveccion aire = %.1f'%Aire.hc)"
   ]
  },
  {
   "cell_type": "markdown",
   "id": "7599e910",
   "metadata": {
    "papermill": {
     "duration": 0.027354,
     "end_time": "2021-05-30T21:24:19.125477",
     "exception": false,
     "start_time": "2021-05-30T21:24:19.098123",
     "status": "completed"
    },
    "tags": []
   },
   "source": [
    "COLBURN, Allan P. A method of correlating forced convection heat-transfer data and a comparison with fluid friction. International Journal of Heat and Mass Transfer, 1964, vol. 7, no 12, p. 1359-1384."
   ]
  },
  {
   "cell_type": "code",
   "execution_count": 21,
   "id": "4023bcbf-e101-46c3-9953-8192aedab646",
   "metadata": {},
   "outputs": [],
   "source": [
    "k_acero = ht.k_material('stainless steel')\n",
    "espesor_tubo = 1e-3"
   ]
  },
  {
   "cell_type": "code",
   "execution_count": 22,
   "id": "c80bed78",
   "metadata": {
    "papermill": {
     "duration": 0.037501,
     "end_time": "2021-05-30T21:24:19.611607",
     "exception": false,
     "start_time": "2021-05-30T21:24:19.574106",
     "status": "completed"
    },
    "tags": []
   },
   "outputs": [],
   "source": [
    "Ulimpio = (1/ (hc_crudo*D_interno) + np.log((D_interno+espesor_tubo)/D_interno)/k_acero + 1/(hc_glycol*(D_interno+espesor_tubo)))**-1\n",
    "#U_calc = 1 / (1/Ulimpio + Rf *(1+Tubo_dext/Tubo_dint))\n",
    "\n"
   ]
  },
  {
   "cell_type": "code",
   "execution_count": 23,
   "id": "83e0d79a-d418-40fd-9e3b-701985e6e3ac",
   "metadata": {},
   "outputs": [
    {
     "data": {
      "text/plain": [
       "(440.2452970082708, 1.2961839923607767)"
      ]
     },
     "execution_count": 23,
     "metadata": {},
     "output_type": "execute_result"
    }
   ],
   "source": [
    "1/ (np.log((D_interno+espesor_tubo)/D_interno)/k_acero ), (hc_crudo*D_interno) "
   ]
  },
  {
   "cell_type": "code",
   "execution_count": 22,
   "id": "351ed4de-f104-481f-8158-e67334f721d2",
   "metadata": {},
   "outputs": [
    {
     "data": {
      "text/plain": [
       "(4.270114968579573, 1531.9786379170362)"
      ]
     },
     "execution_count": 22,
     "metadata": {},
     "output_type": "execute_result"
    }
   ],
   "source": [
    "Ulimpio,hc_crudo"
   ]
  },
  {
   "cell_type": "code",
   "execution_count": 24,
   "id": "1557ace1",
   "metadata": {
    "papermill": {
     "duration": 0.038704,
     "end_time": "2021-05-30T21:24:19.678680",
     "exception": false,
     "start_time": "2021-05-30T21:24:19.639976",
     "status": "completed"
    },
    "tags": []
   },
   "outputs": [
    {
     "data": {
      "text/latex": [
       "$\\Delta p_{crudo}=0.3559587650480511$Pa"
      ],
      "text/plain": [
       "<IPython.core.display.Latex object>"
      ]
     },
     "metadata": {},
     "output_type": "display_data"
    },
    {
     "data": {
      "text/latex": [
       "$\\Delta p_{glycol}=0.0012161099724487204$Pa"
      ],
      "text/plain": [
       "<IPython.core.display.Latex object>"
      ]
     },
     "metadata": {},
     "output_type": "display_data"
    }
   ],
   "source": [
    "# Caida de presion\n",
    "\n",
    "# Calculo para flujo en tubos\n",
    "roughness = fluids.roughness_Farshad('Carbon steel, bare', D=D_interno)\n",
    "roughness_gl = fluids.roughness_Farshad('Carbon steel, bare', D=D_hidraulico_glycol)\n",
    "\n",
    "f_c = fluids.friction.friction_factor(Re=Re_crudo, eD=roughness/D_interno)\n",
    "f_c2 = 1.2*(0.0014+0.125/Re_crudo**.32)\n",
    "f_c_gl = fluids.friction.friction_factor(Re=Re_glycol, eD=roughness_gl/D_hidraulico_glycol)\n",
    "\n",
    "Delta_p_crudo = f_c*Veloc_crudo**2*Longitud/D_interno/2 \n",
    "Delta_p_glycol = f_c_gl*Veloc_glycol**2*Longitud/D_hidraulico_glycol/2 \n",
    "\n",
    "display(Latex(f'$\\Delta p_{{crudo}}={Delta_p_crudo}$Pa'))\n",
    "display(Latex(f'$\\Delta p_{{glycol}}={Delta_p_glycol}$Pa'))"
   ]
  },
  {
   "cell_type": "code",
   "execution_count": 13,
   "id": "416eb2ee",
   "metadata": {
    "_kg_hide-input": true,
    "papermill": {
     "duration": 0.091143,
     "end_time": "2021-05-30T21:24:19.799295",
     "exception": false,
     "start_time": "2021-05-30T21:24:19.708152",
     "status": "completed"
    },
    "tags": []
   },
   "outputs": [
    {
     "name": "stdout",
     "output_type": "stream",
     "text": [
      "Se puede volcar sobre un archivo Excel.\n"
     ]
    },
    {
     "data": {
      "text/html": [
       "<div>\n",
       "<style scoped>\n",
       "    .dataframe tbody tr th:only-of-type {\n",
       "        vertical-align: middle;\n",
       "    }\n",
       "\n",
       "    .dataframe tbody tr th {\n",
       "        vertical-align: top;\n",
       "    }\n",
       "\n",
       "    .dataframe thead th {\n",
       "        text-align: right;\n",
       "    }\n",
       "</style>\n",
       "<table border=\"1\" class=\"dataframe\">\n",
       "  <thead>\n",
       "    <tr style=\"text-align: right;\">\n",
       "      <th></th>\n",
       "      <th>Unnamed: 0</th>\n",
       "      <th>Unnamed: 1</th>\n",
       "      <th>Unnamed: 2</th>\n",
       "    </tr>\n",
       "  </thead>\n",
       "  <tbody>\n",
       "    <tr>\n",
       "      <th>0</th>\n",
       "      <td>Nombre Fluido</td>\n",
       "      <td>Crudo</td>\n",
       "      <td>Glycol 50%</td>\n",
       "    </tr>\n",
       "    <tr>\n",
       "      <th>1</th>\n",
       "      <td>Caudal masico (kg/s)</td>\n",
       "      <td>0.28</td>\n",
       "      <td>0.29</td>\n",
       "    </tr>\n",
       "    <tr>\n",
       "      <th>2</th>\n",
       "      <td>Temperatura Entrada</td>\n",
       "      <td>60.0</td>\n",
       "      <td>-20.0</td>\n",
       "    </tr>\n",
       "    <tr>\n",
       "      <th>3</th>\n",
       "      <td>Temperatura salida</td>\n",
       "      <td>22.0</td>\n",
       "      <td>5.0</td>\n",
       "    </tr>\n",
       "    <tr>\n",
       "      <th>4</th>\n",
       "      <td>Densidad kg/m3</td>\n",
       "      <td>850</td>\n",
       "      <td>1078</td>\n",
       "    </tr>\n",
       "    <tr>\n",
       "      <th>5</th>\n",
       "      <td>Viscosidad cP</td>\n",
       "      <td>6.4</td>\n",
       "      <td>11.4</td>\n",
       "    </tr>\n",
       "    <tr>\n",
       "      <th>6</th>\n",
       "      <td>Calor específico J/Kg C</td>\n",
       "      <td>2100</td>\n",
       "      <td>3159</td>\n",
       "    </tr>\n",
       "    <tr>\n",
       "      <th>7</th>\n",
       "      <td>Conductividad térmica W/Kg C</td>\n",
       "      <td>0.13</td>\n",
       "      <td>0.37</td>\n",
       "    </tr>\n",
       "    <tr>\n",
       "      <th>8</th>\n",
       "      <td>Presión de entrada kPa</td>\n",
       "      <td>101.3</td>\n",
       "      <td>101.3</td>\n",
       "    </tr>\n",
       "    <tr>\n",
       "      <th>9</th>\n",
       "      <td>Velocidad m/s</td>\n",
       "      <td>4.7</td>\n",
       "      <td>0.6</td>\n",
       "    </tr>\n",
       "    <tr>\n",
       "      <th>10</th>\n",
       "      <td>Caída de presión Pa</td>\n",
       "      <td>734.2</td>\n",
       "      <td>13.1</td>\n",
       "    </tr>\n",
       "    <tr>\n",
       "      <th>11</th>\n",
       "      <td>Resistencia de ensuciamiento m2C/W</td>\n",
       "      <td>NaN</td>\n",
       "      <td>NaN</td>\n",
       "    </tr>\n",
       "    <tr>\n",
       "      <th>12</th>\n",
       "      <td>Calor intercambiado kW</td>\n",
       "      <td>22.61</td>\n",
       "      <td>NaN</td>\n",
       "    </tr>\n",
       "    <tr>\n",
       "      <th>13</th>\n",
       "      <td>Coeficiente Global de Transferencia</td>\n",
       "      <td>979.6</td>\n",
       "      <td>NaN</td>\n",
       "    </tr>\n",
       "  </tbody>\n",
       "</table>\n",
       "</div>"
      ],
      "text/plain": [
       "                             Unnamed: 0 Unnamed: 1  Unnamed: 2\n",
       "0                         Nombre Fluido      Crudo  Glycol 50%\n",
       "1                  Caudal masico (kg/s)       0.28        0.29\n",
       "2                   Temperatura Entrada       60.0       -20.0\n",
       "3                    Temperatura salida       22.0         5.0\n",
       "4                        Densidad kg/m3        850        1078\n",
       "5                         Viscosidad cP        6.4        11.4\n",
       "6               Calor específico J/Kg C       2100        3159\n",
       "7          Conductividad térmica W/Kg C       0.13        0.37\n",
       "8                Presión de entrada kPa      101.3       101.3\n",
       "9                         Velocidad m/s        4.7         0.6\n",
       "10                  Caída de presión Pa      734.2        13.1\n",
       "11   Resistencia de ensuciamiento m2C/W        NaN         NaN\n",
       "12               Calor intercambiado kW      22.61         NaN\n",
       "13  Coeficiente Global de Transferencia      979.6         NaN"
      ]
     },
     "execution_count": 13,
     "metadata": {},
     "output_type": "execute_result"
    }
   ],
   "source": [
    "print('Se puede volcar sobre un archivo Excel.')\n",
    "# Workbook is created \n",
    "wb = xw.Workbook() \n",
    "xw.add_palette_colour(\"gris\", 0x21)\n",
    "wb.set_colour_RGB(0x21, 200, 200,200)  \n",
    "# add_sheet is used to create sheet. \n",
    "sheet1 = wb.add_sheet('Performance Unidad') \n",
    "style = xw.easyxf('pattern: pattern solid, fore_colour gris;')\n",
    "# Input data into rows \n",
    "sheet1.write(3, 0, 'Nombre Fluido') \n",
    "sheet1.write(3, 1, 'Crudo') \n",
    "sheet1.write(3, 2, 'Glycol 50%') \n",
    "\n",
    "sheet1.write(4, 0, 'Caudal masico (kg/s)',style) \n",
    "sheet1.write(4, 1, '%.2f'%(Caudal_crudo*rho_crudo),style) \n",
    "sheet1.write(4, 2, '%.2f'%(Caudal_glycol*rho_glycol),style) \n",
    "\n",
    "sheet1.write(5, 0, 'Temperatura Entrada') \n",
    "sheet1.write(5, 1, '%.1f'%T_crudo_e) \n",
    "sheet1.write(5, 2, '%.1f'%T_glycol_e) \n",
    "\n",
    "sheet1.write(6, 0, 'Temperatura salida',style) \n",
    "sheet1.write(6, 1, f'{T_crudo_s:.1f}',style) \n",
    "sheet1.write(6, 2, f'{T_glycol_s:.1f}',style) \n",
    "sheet1.write(7, 0, 'Densidad kg/m3') \n",
    "sheet1.write(7, 1, f'{rho_crudo:.0f}')\n",
    "sheet1.write(7, 2, f'{rho_glycol:.0f}')\n",
    "sheet1.write(8, 0, 'Viscosidad cP',style) \n",
    "sheet1.write(8, 1, f'{mu_crudo*1e3:.1f}',style) \n",
    "sheet1.write(8, 2, f'{mu_glycol*1e3:.1f}',style) \n",
    "\n",
    "\n",
    "sheet1.write(9, 0, 'Calor específico J/Kg C')\n",
    "sheet1.write(9, 1, f'{Cp_crudo:.0f}')\n",
    "sheet1.write(9, 2, f'{Cp_glycol:.0f}')\n",
    "\n",
    "\n",
    "sheet1.write(10, 0, 'Conductividad térmica W/Kg C',style) \n",
    "sheet1.write(10, 1, f'{k_crudo:.2f}',style) \n",
    "sheet1.write(10, 2, f'{k_glycol:.2f}',style) \n",
    "\n",
    "sheet1.write(11, 0, 'Presión de entrada kPa') \n",
    "sheet1.write(11, 1, '%.1f'%(101.3))\n",
    "sheet1.write(11, 2, '%.1f'%(101.3))\n",
    "\n",
    "\n",
    "sheet1.write(12, 0, 'Velocidad m/s',style) \n",
    "sheet1.write(12, 1, f'{Veloc_crudo:.1f}',style)\n",
    "sheet1.write(12, 2, f'{Veloc_glycol:.1f}',style)\n",
    "\n",
    "\n",
    "sheet1.write(13, 0, 'Caída de presión Pa') \n",
    "sheet1.write(13, 1, f'{Delta_p_crudo:.1f}')\n",
    "sheet1.write(13, 2, f'{Delta_p_glycol:.1f}')\n",
    "\n",
    "\n",
    "sheet1.write(14, 0, 'Resistencia de ensuciamiento m2C/W',style) \n",
    "#sheet1.write(14, 1, '%.4f'%(Rf/2),style)\n",
    "#sheet1.write(14, 2, '%.4f'%(Rf/2),style)\n",
    "\n",
    "sheet1.write(15, 0, 'Calor intercambiado kW') \n",
    "sheet1.write(15, 1, f'{Q_crudo*1e-3}')\n",
    "\n",
    "sheet1.write(16, 0, 'Coeficiente Global de Transferencia',style)\n",
    "sheet1.write(16, 1, f'{U:.1f}',style)\n",
    "\n",
    "nombre_salida = 'Intercambiador_salida.xls'\n",
    "wb.save(nombre_salida)\n",
    "data_salida_excel = pd.read_excel('./'+nombre_salida,skiprows=2)\n",
    "data_salida_excel"
   ]
  },
  {
   "cell_type": "code",
   "execution_count": 25,
   "id": "b00abc95-ef00-4152-9c6a-b497e2b24d88",
   "metadata": {},
   "outputs": [
    {
     "ename": "SyntaxError",
     "evalue": "invalid syntax (2619805294.py, line 1)",
     "output_type": "error",
     "traceback": [
      "\u001b[0;36m  Input \u001b[0;32mIn [25]\u001b[0;36m\u001b[0m\n\u001b[0;31m    calcular volumen de parafina necesario.... tres veces lo que deposita 5mm en la pared\u001b[0m\n\u001b[0m             ^\u001b[0m\n\u001b[0;31mSyntaxError\u001b[0m\u001b[0;31m:\u001b[0m invalid syntax\n"
     ]
    }
   ],
   "source": [
    "calcular volumen de parafina necesario.... tres veces lo que deposita 5mm en la pared"
   ]
  },
  {
   "cell_type": "code",
   "execution_count": 28,
   "id": "07b06e18",
   "metadata": {
    "papermill": {
     "duration": 0.038502,
     "end_time": "2021-05-30T21:24:21.917769",
     "exception": false,
     "start_time": "2021-05-30T21:24:21.879267",
     "status": "completed"
    },
    "tags": []
   },
   "outputs": [],
   "source": [
    "Diam = 25.4e-3\n",
    "Diam_para = 25.4e-3-2.5e-3\n",
    "\n",
    "Vol_para = (Diam**2*np.pi/4-Diam_para**2*np.pi/4)*Longitud"
   ]
  },
  {
   "cell_type": "code",
   "execution_count": 29,
   "id": "6497460a-a223-4c53-8b28-c312bd4325bd",
   "metadata": {},
   "outputs": [
    {
     "data": {
      "text/plain": [
       "1.5173892516838692"
      ]
     },
     "execution_count": 29,
     "metadata": {},
     "output_type": "execute_result"
    }
   ],
   "source": [
    "Vol_para*1e3"
   ]
  },
  {
   "cell_type": "code",
   "execution_count": null,
   "id": "175a60fa-a6b3-4d5f-88fb-16f3404d20dd",
   "metadata": {},
   "outputs": [],
   "source": []
  }
 ],
 "metadata": {
  "kernelspec": {
   "display_name": "Python 3",
   "language": "python",
   "name": "python3"
  },
  "language_info": {
   "codemirror_mode": {
    "name": "ipython",
    "version": 3
   },
   "file_extension": ".py",
   "mimetype": "text/x-python",
   "name": "python",
   "nbconvert_exporter": "python",
   "pygments_lexer": "ipython3",
   "version": "3.8.8"
  },
  "latex_envs": {
   "LaTeX_envs_menu_present": true,
   "autoclose": true,
   "autocomplete": true,
   "bibliofile": "biblio.bib",
   "cite_by": "apalike",
   "current_citInitial": 1,
   "eqLabelWithNumbers": true,
   "eqNumInitial": 1,
   "hotkeys": {
    "equation": "Ctrl-E",
    "itemize": "Ctrl-I"
   },
   "labels_anchors": false,
   "latex_user_defs": false,
   "report_style_numbering": false,
   "user_envs_cfg": false
  },
  "papermill": {
   "default_parameters": {},
   "duration": 23.771076,
   "end_time": "2021-05-30T21:24:22.664715",
   "environment_variables": {},
   "exception": null,
   "input_path": "__notebook__.ipynb",
   "output_path": "__notebook__.ipynb",
   "parameters": {},
   "start_time": "2021-05-30T21:23:58.893639",
   "version": "2.3.3"
  }
 },
 "nbformat": 4,
 "nbformat_minor": 5
}
