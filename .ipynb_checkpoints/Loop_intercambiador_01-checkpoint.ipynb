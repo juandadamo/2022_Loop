{
 "cells": [
  {
   "cell_type": "code",
   "execution_count": 1,
   "id": "61c7d36d",
   "metadata": {
    "_kg_hide-input": true,
    "_kg_hide-output": true,
    "papermill": {
     "duration": 12.40044,
     "end_time": "2021-05-30T21:24:18.188788",
     "exception": false,
     "start_time": "2021-05-30T21:24:05.788348",
     "status": "completed"
    },
    "tags": []
   },
   "outputs": [],
   "source": [
    "%%capture\n",
    "!pip install ht CoolProp fluids xlrd xlwt"
   ]
  },
  {
   "cell_type": "code",
   "execution_count": 226,
   "id": "693fee3f",
   "metadata": {
    "_cell_guid": "b1076dfc-b9ad-4769-8c92-a6c4dae69d19",
    "_kg_hide-input": true,
    "_kg_hide-output": true,
    "_uuid": "8f2839f25d086af736a60e9eeb907d3b93b6e0e5",
    "papermill": {
     "duration": 0.12376,
     "end_time": "2021-05-30T21:24:18.340027",
     "exception": false,
     "start_time": "2021-05-30T21:24:18.216267",
     "status": "completed"
    },
    "tags": []
   },
   "outputs": [],
   "source": [
    "%matplotlib widget\n",
    "import numpy as np # linear algebra\n",
    "import pandas as pd # data processing, CSV file I/O (e.g. pd.read_csv)\n",
    "import xlwt as xw\n",
    "lista_data = []\n",
    "import matplotlib.pyplot as plt\n",
    "import ht,fluids,os,socket\n",
    "import CoolProp as cp\n",
    "from IPython.display import Latex\n",
    "from prop_fluidos_intercambiadores import fluido_intercambiador\n",
    "import time,datetime\n",
    "colores = plt.rcParams['axes.prop_cycle'].by_key()['color']"
   ]
  },
  {
   "cell_type": "code",
   "execution_count": 344,
   "id": "0a0ca99a-b436-4a1e-bf3a-83d022daf644",
   "metadata": {},
   "outputs": [],
   "source": [
    "class experiencia_loop:    \n",
    "    def __init__(self,caudal,ni,nf):\n",
    "        self.intervalo = [ni,nf]\n",
    "        self.caudal = caudal[ni:nf]\n",
    "        self.temperatura_media = 0\n",
    "        self.friction_factor = 0\n",
    "        self.densidad_media = 0\n",
    "        self.viscosidad_media = 0\n",
    "        self.deltaP = 0\n",
    "        self.presiones = 0\n",
    "        self.temperaturas = 0\n",
    "        N = len(self.caudal)\n",
    "        self.tiempos = np.arange(0,30*N,30)\n",
    "        self.sentido = 0\n",
    "        "
   ]
  },
  {
   "cell_type": "markdown",
   "id": "92643a95",
   "metadata": {
    "papermill": {
     "duration": 0.026188,
     "end_time": "2021-05-30T21:24:18.392866",
     "exception": false,
     "start_time": "2021-05-30T21:24:18.366678",
     "status": "completed"
    },
    "tags": []
   },
   "source": [
    "## Intercambiador de Calor\n",
    "#### HIPOTESIS DE CALCULO:\n",
    "\n",
    "\n",
    "1. Intercambiador de calor a contracorriente de tubos concéntricos\n"
   ]
  },
  {
   "cell_type": "code",
   "execution_count": 413,
   "id": "0fcfde2a",
   "metadata": {
    "papermill": {
     "duration": 0.040034,
     "end_time": "2021-05-30T21:24:18.511413",
     "exception": false,
     "start_time": "2021-05-30T21:24:18.471379",
     "status": "completed"
    },
    "tags": []
   },
   "outputs": [],
   "source": [
    "#constantes de calculo\n",
    "g = 9.8; cal2joule = 4.184; psipascal = 6894.76\n",
    "###########################################################\n",
    "#           DATOS  del Intercambiador  \n",
    "###########################################################\n",
    "# Definición de Flujos\n",
    "#Crudo = fluido_intercambiador('Crudo') \n",
    "#Glicol = fluido_intercambiador('Glycol')\n",
    "# Temperaturas\n",
    "T_crudo_e = 55.8 ##(al menos Twat + 20)\n",
    "T_crudo_WAT = 32\n",
    "T_crudo_s = T_crudo_WAT-10\n",
    "T_crudo_s = 52.5\n",
    "\n",
    "T_glycol_e = 38.8\n",
    "T_glycol_s = 40\n",
    "Caudal_crudo = 2.265 * 1e-3/60  #20L/min en m3/s\n",
    "\n",
    "D_externo_1 = 33.44e-3\n",
    "\n",
    "#Considerando Schedule 160 (para soportar 150psi)\n",
    "espesor_tubo_1 = 6.35e-3\n",
    "espesor_tubo_1 = 4.55e-3\n",
    "\n",
    "D_interno_1 = D_externo_1-2*espesor_tubo_1\n",
    "\n",
    "\n",
    "D_externo_2 = 114.3e-3\n",
    "espesor_tubo_2 = 6.02\n",
    "#Supongo Schedule STD, presion de trabajo 40 psi\n",
    "D_interno_2 = D_externo_2-2*espesor_tubo_2\n",
    "Longitud = 16"
   ]
  },
  {
   "cell_type": "code",
   "execution_count": 438,
   "id": "ff46e8c1-1aa7-4f69-9aa6-4f93d982a6f9",
   "metadata": {},
   "outputs": [],
   "source": [
    "#A = pd.read_excel('150202_jd.xlsx',thousands=',')\n",
    "#A = pd.read_excel('150203.H24.xlsx',thousands=',')\n",
    "#A = pd.read_excel('DATOS DIESEL 17-08-2022.xlsx',thousands=',')\n",
    "\n",
    "A = pd.read_excel('Pruebas diesel 19-08-2022.xlsx',thousands=',')\n",
    "A2 = pd.read_excel('Pruebas diesel 24-08-2022 20.xlsx',thousands=',')\n",
    "#A = A[:944]\n",
    "#A.drop(A.columns[[1]],axis=1,inplace=True)\n",
    "A=A.drop(A.index[[0,1,2]])\n",
    "Prop = pd.read_excel('Densidad y viscosidad diesel.xlsx',thousands=',',sheet_name=1,skiprows=3)\n",
    "p1 = np.polyfit(1/Prop['T(K)'],np.log(Prop['Viscosidad (cp)']),1)\n",
    "p2 = np.polyfit(Prop['T(K)'],Prop['Densidad (g/ml)'],1)\n",
    "visco_fit = np.poly1d(p1)\n",
    "dens_fit = np.poly1d(p2)\n",
    "temperatures = np.linspace(Prop['T(K)'][0],Prop['T(K)'].iloc[-1],50)\n",
    "\n",
    "def viscosidad_crudo(T):\n",
    "    return np.exp(visco_fit(1/T))"
   ]
  },
  {
   "cell_type": "code",
   "execution_count": 415,
   "id": "68ad6d0d-db84-47f3-92ae-ab25b8e13b53",
   "metadata": {},
   "outputs": [
    {
     "data": {
      "application/vnd.jupyter.widget-view+json": {
       "model_id": "be25540d13a748e7bb2b267d696884c6",
       "version_major": 2,
       "version_minor": 0
      },
      "text/plain": [
       "Canvas(toolbar=Toolbar(toolitems=[('Home', 'Reset original view', 'home', 'home'), ('Back', 'Back to previous …"
      ]
     },
     "metadata": {},
     "output_type": "display_data"
    }
   ],
   "source": [
    "fig,ax = plt.subplots()\n",
    "ax_a = ax\n",
    "ax_b = ax_a.twinx()\n",
    "ax_a.plot(Prop['T(K)'],Prop['Viscosidad (cp)'],marker='o',color=colores[0],linestyle='',markerfacecolor='None')\n",
    "l1, = ax_a.plot(temperatures,viscosidad_crudo(temperatures),color=colores[0]);\n",
    "ax_b.plot(Prop['T(K)'],Prop['Densidad (g/ml)']*1000,marker='s',color=colores[1],markerfacecolor='None')\n",
    "l2, = ax_b.plot(temperatures,dens_fit(temperatures)*1000,color=colores[1]);\n",
    "ax_b.yaxis.label.set_color(l2.get_color())\n",
    "ax_a.yaxis.label.set_color(l1.get_color())\n",
    "ax_b.set_ylabel('Densidad (kg/m$^3$)')\n",
    "ax_a.set_ylabel('Viscosidad (cp)')\n",
    "ax_a.set_ylim([0,10])\n",
    "ax_a.grid()\n"
   ]
  },
  {
   "cell_type": "code",
   "execution_count": 416,
   "id": "4157f80e-4388-4400-be19-3d0529f0289e",
   "metadata": {},
   "outputs": [],
   "source": [
    "from scipy.signal import find_peaks\n",
    "dcaudal = np.abs(np.diff(Caudal))\n",
    "peaks = find_peaks(dcaudal,height=1)\n",
    "nexperiencias = np.hstack((np.array([0]), peaks[0]+1))\n",
    "experiencias = []\n",
    "for i in range(len(nexperiencias)-1):  \n",
    "    ni,nf = [nexperiencias[i],nexperiencias[i+1]]\n",
    "    experiencias.append(experiencia_loop(Caudal, ni,nf))\n",
    "    experiencias[i].presiones = np.vstack([PT0i[ni:nf] for PT0i in [PT01,PT02,PT03,PT04,PT05,PT06]])\n",
    "    experiencias[i].temperaturas = TE_s[:,ni:nf]\n",
    "    experiencias[i].velocidad = np.abs(experiencias[i].caudal )/(D_interno_1**2*np.pi/4)*1e-3/60\n",
    "    temperatura_media = np.asarray([experiencias[i].temperaturas[j].mean() for j in range(1,5)]).mean()\n",
    "    experiencias[i].temperatura_media = temperatura_media\n",
    "    rho = dens_fit(temperatura_media+273)*1000\n",
    "    experiencias[i].densidad_media = rho\n",
    "    viscosidad = viscosidad_crudo(temperatura_media+273)*1e-3\n",
    "    experiencias[i].viscosidad_media = viscosidad\n",
    "    experiencias[i].Re = experiencias[i].velocidad.mean() * D_interno_1 / viscosidad*experiencias[i].densidad_media\n",
    "    ff = ht.conv_internal.friction_factor(experiencias[i].Re)\n",
    "    experiencias[i].friction_factor = ff\n",
    "    deltaP = ff*experiencias[i].velocidad**2/2*rho*Longitud/D_interno_1\n",
    "    experiencias[i].deltaP = deltaP\n",
    "    if experiencias[i].caudal.mean()<0:\n",
    "        experiencias[i].sentido = -1\n",
    "    else:\n",
    "        experiencias[i].sentido = 1\n",
    "PT01_ref, PT02_ref, PT02_ref,PT04_ref, PT05_ref, PT06_ref = [experiencias[0].presiones[i].mean() for i in range(6)]\n",
    "presiones_ref = np.asarray([experiencias[0].presiones[i].mean() for i in range(6)])\n",
    "for i,experiencias_i in enumerate(experiencias):\n",
    "    for j,presiones_i in enumerate(experiencias_i.presiones):\n",
    "        experiencias[i].presiones[j] = experiencias[i].presiones[j] - presiones_ref[j]\n"
   ]
  },
  {
   "cell_type": "code",
   "execution_count": 437,
   "id": "0fde9989-5bf7-41ac-9088-375125992c16",
   "metadata": {},
   "outputs": [
    {
     "data": {
      "application/vnd.jupyter.widget-view+json": {
       "model_id": "7022fcaf2b07426ea4e40463e66d5f33",
       "version_major": 2,
       "version_minor": 0
      },
      "text/plain": [
       "Canvas(toolbar=Toolbar(toolitems=[('Home', 'Reset original view', 'home', 'home'), ('Back', 'Back to previous …"
      ]
     },
     "metadata": {},
     "output_type": "display_data"
    }
   ],
   "source": [
    "k = 9\n",
    "fig,ax = plt.subplots()\n",
    "for j in range(6):\n",
    "    ax.plot(experiencias[k].presiones[j],label=f'{j:.0f}')   \n",
    "    text_circ = 'contracorriente'\n",
    "if experiencias[k].sentido == -1:\n",
    "    deltap_exp = experiencias[k].presiones[4]-experiencias[k].presiones[2]\n",
    "    text_circ = 'paralelo'\n",
    "else:\n",
    "    deltap_exp = experiencias[k].presiones[0]-experiencias[k].presiones[2]\n",
    "l1, = ax.plot(deltap_exp,label=f'$\\Delta p$',color='k',linewidth=3)\n",
    "ax.plot(experiencias[k].deltaP/psipascal,'s',color=l1.get_color())\n",
    "    #ax.plot(,'s')\n",
    "ax.set_title(text_circ)\n",
    "ax.set_xlabel('tiempo')\n",
    "ax.legend();"
   ]
  },
  {
   "cell_type": "markdown",
   "id": "3a29a2e0-cf16-4478-b3ce-086746e4c634",
   "metadata": {},
   "source": [
    "![Interfase ADQ](referencias.png)"
   ]
  },
  {
   "cell_type": "code",
   "execution_count": 439,
   "id": "44e9cac4-153b-40ee-8e96-97c20dbbf58c",
   "metadata": {},
   "outputs": [
    {
     "data": {
      "text/html": [
       "<div>\n",
       "<style scoped>\n",
       "    .dataframe tbody tr th:only-of-type {\n",
       "        vertical-align: middle;\n",
       "    }\n",
       "\n",
       "    .dataframe tbody tr th {\n",
       "        vertical-align: top;\n",
       "    }\n",
       "\n",
       "    .dataframe thead th {\n",
       "        text-align: right;\n",
       "    }\n",
       "</style>\n",
       "<table border=\"1\" class=\"dataframe\">\n",
       "  <thead>\n",
       "    <tr style=\"text-align: right;\">\n",
       "      <th></th>\n",
       "      <th>Date/Time</th>\n",
       "      <th>T (min)</th>\n",
       "      <th>PT-01</th>\n",
       "      <th>PT-02</th>\n",
       "      <th>PT-03</th>\n",
       "      <th>PT-04</th>\n",
       "      <th>PT-05</th>\n",
       "      <th>PT-06</th>\n",
       "      <th>VESSEL_SP</th>\n",
       "      <th>VESSEL_OP</th>\n",
       "      <th>...</th>\n",
       "      <th>OnOffMotor</th>\n",
       "      <th>SDS_Mesure</th>\n",
       "      <th>CHILLER_PV</th>\n",
       "      <th>CHILLER_SP</th>\n",
       "      <th>CORIOLIS_Density</th>\n",
       "      <th>Motor</th>\n",
       "      <th>PT1 - PT2</th>\n",
       "      <th>PT1-PT3</th>\n",
       "      <th>PT1-PT4</th>\n",
       "      <th>PT1-PT5</th>\n",
       "    </tr>\n",
       "  </thead>\n",
       "  <tbody>\n",
       "    <tr>\n",
       "      <th>0</th>\n",
       "      <td>21:01:35</td>\n",
       "      <td>1.00</td>\n",
       "      <td>???</td>\n",
       "      <td>???</td>\n",
       "      <td>???</td>\n",
       "      <td>???</td>\n",
       "      <td>???</td>\n",
       "      <td>???</td>\n",
       "      <td>???</td>\n",
       "      <td>???</td>\n",
       "      <td>...</td>\n",
       "      <td>???</td>\n",
       "      <td>???</td>\n",
       "      <td>???</td>\n",
       "      <td>???</td>\n",
       "      <td>???</td>\n",
       "      <td>???</td>\n",
       "      <td>NaN</td>\n",
       "      <td>NaN</td>\n",
       "      <td>NaN</td>\n",
       "      <td>NaN</td>\n",
       "    </tr>\n",
       "    <tr>\n",
       "      <th>1</th>\n",
       "      <td>21:01:36</td>\n",
       "      <td>1.25</td>\n",
       "      <td>???</td>\n",
       "      <td>???</td>\n",
       "      <td>???</td>\n",
       "      <td>???</td>\n",
       "      <td>???</td>\n",
       "      <td>???</td>\n",
       "      <td>@@@@@</td>\n",
       "      <td>@@@@@</td>\n",
       "      <td>...</td>\n",
       "      <td>???</td>\n",
       "      <td>???</td>\n",
       "      <td>???</td>\n",
       "      <td>???</td>\n",
       "      <td>???</td>\n",
       "      <td>???</td>\n",
       "      <td>NaN</td>\n",
       "      <td>NaN</td>\n",
       "      <td>NaN</td>\n",
       "      <td>NaN</td>\n",
       "    </tr>\n",
       "    <tr>\n",
       "      <th>2</th>\n",
       "      <td>21:01:51</td>\n",
       "      <td>1.50</td>\n",
       "      <td>6.6</td>\n",
       "      <td>-1.3</td>\n",
       "      <td>1.3</td>\n",
       "      <td>0.3</td>\n",
       "      <td>6.2</td>\n",
       "      <td>-0.5</td>\n",
       "      <td>40</td>\n",
       "      <td>8.1</td>\n",
       "      <td>...</td>\n",
       "      <td>0</td>\n",
       "      <td>0.001068</td>\n",
       "      <td>15.1</td>\n",
       "      <td>0</td>\n",
       "      <td>0.84</td>\n",
       "      <td>-2000</td>\n",
       "      <td>7.9</td>\n",
       "      <td>5.3</td>\n",
       "      <td>6.3</td>\n",
       "      <td>0.4</td>\n",
       "    </tr>\n",
       "    <tr>\n",
       "      <th>3</th>\n",
       "      <td>21:02:06</td>\n",
       "      <td>1.75</td>\n",
       "      <td>6.6</td>\n",
       "      <td>-1.3</td>\n",
       "      <td>1.3</td>\n",
       "      <td>0.3</td>\n",
       "      <td>6.2</td>\n",
       "      <td>-0.5</td>\n",
       "      <td>20</td>\n",
       "      <td>0</td>\n",
       "      <td>...</td>\n",
       "      <td>0</td>\n",
       "      <td>0.001071</td>\n",
       "      <td>15.1</td>\n",
       "      <td>0</td>\n",
       "      <td>0.839</td>\n",
       "      <td>-2000</td>\n",
       "      <td>7.9</td>\n",
       "      <td>5.3</td>\n",
       "      <td>6.3</td>\n",
       "      <td>0.4</td>\n",
       "    </tr>\n",
       "    <tr>\n",
       "      <th>4</th>\n",
       "      <td>21:02:21</td>\n",
       "      <td>2.00</td>\n",
       "      <td>6.5</td>\n",
       "      <td>-1.2</td>\n",
       "      <td>1.3</td>\n",
       "      <td>0.3</td>\n",
       "      <td>6.2</td>\n",
       "      <td>-0.5</td>\n",
       "      <td>20</td>\n",
       "      <td>0</td>\n",
       "      <td>...</td>\n",
       "      <td>0</td>\n",
       "      <td>0.001074</td>\n",
       "      <td>15.1</td>\n",
       "      <td>0</td>\n",
       "      <td>0.838</td>\n",
       "      <td>-2000</td>\n",
       "      <td>7.7</td>\n",
       "      <td>5.2</td>\n",
       "      <td>6.2</td>\n",
       "      <td>0.3</td>\n",
       "    </tr>\n",
       "    <tr>\n",
       "      <th>...</th>\n",
       "      <td>...</td>\n",
       "      <td>...</td>\n",
       "      <td>...</td>\n",
       "      <td>...</td>\n",
       "      <td>...</td>\n",
       "      <td>...</td>\n",
       "      <td>...</td>\n",
       "      <td>...</td>\n",
       "      <td>...</td>\n",
       "      <td>...</td>\n",
       "      <td>...</td>\n",
       "      <td>...</td>\n",
       "      <td>...</td>\n",
       "      <td>...</td>\n",
       "      <td>...</td>\n",
       "      <td>...</td>\n",
       "      <td>...</td>\n",
       "      <td>...</td>\n",
       "      <td>...</td>\n",
       "      <td>...</td>\n",
       "      <td>...</td>\n",
       "    </tr>\n",
       "    <tr>\n",
       "      <th>1898</th>\n",
       "      <td>04:57:44</td>\n",
       "      <td>475.50</td>\n",
       "      <td>?????</td>\n",
       "      <td>?????</td>\n",
       "      <td>?????</td>\n",
       "      <td>?????</td>\n",
       "      <td>?????</td>\n",
       "      <td>?????</td>\n",
       "      <td>?????</td>\n",
       "      <td>?????</td>\n",
       "      <td>...</td>\n",
       "      <td>?</td>\n",
       "      <td>?????</td>\n",
       "      <td>???</td>\n",
       "      <td>???</td>\n",
       "      <td>????</td>\n",
       "      <td>?????</td>\n",
       "      <td>NaN</td>\n",
       "      <td>NaN</td>\n",
       "      <td>NaN</td>\n",
       "      <td>NaN</td>\n",
       "    </tr>\n",
       "    <tr>\n",
       "      <th>1899</th>\n",
       "      <td>04:58:01</td>\n",
       "      <td>475.75</td>\n",
       "      <td>?????</td>\n",
       "      <td>?????</td>\n",
       "      <td>?????</td>\n",
       "      <td>?????</td>\n",
       "      <td>?????</td>\n",
       "      <td>?????</td>\n",
       "      <td>?????</td>\n",
       "      <td>?????</td>\n",
       "      <td>...</td>\n",
       "      <td>?</td>\n",
       "      <td>?????</td>\n",
       "      <td>???</td>\n",
       "      <td>???</td>\n",
       "      <td>????</td>\n",
       "      <td>?????</td>\n",
       "      <td>NaN</td>\n",
       "      <td>NaN</td>\n",
       "      <td>NaN</td>\n",
       "      <td>NaN</td>\n",
       "    </tr>\n",
       "    <tr>\n",
       "      <th>1900</th>\n",
       "      <td>04:58:16</td>\n",
       "      <td>476.00</td>\n",
       "      <td>?????</td>\n",
       "      <td>?????</td>\n",
       "      <td>?????</td>\n",
       "      <td>?????</td>\n",
       "      <td>?????</td>\n",
       "      <td>?????</td>\n",
       "      <td>?????</td>\n",
       "      <td>?????</td>\n",
       "      <td>...</td>\n",
       "      <td>?</td>\n",
       "      <td>?????</td>\n",
       "      <td>???</td>\n",
       "      <td>???</td>\n",
       "      <td>????</td>\n",
       "      <td>?????</td>\n",
       "      <td>NaN</td>\n",
       "      <td>NaN</td>\n",
       "      <td>NaN</td>\n",
       "      <td>NaN</td>\n",
       "    </tr>\n",
       "    <tr>\n",
       "      <th>1901</th>\n",
       "      <td>04:58:31</td>\n",
       "      <td>476.25</td>\n",
       "      <td>?????</td>\n",
       "      <td>?????</td>\n",
       "      <td>?????</td>\n",
       "      <td>?????</td>\n",
       "      <td>?????</td>\n",
       "      <td>?????</td>\n",
       "      <td>?????</td>\n",
       "      <td>?????</td>\n",
       "      <td>...</td>\n",
       "      <td>?</td>\n",
       "      <td>?????</td>\n",
       "      <td>???</td>\n",
       "      <td>???</td>\n",
       "      <td>????</td>\n",
       "      <td>?????</td>\n",
       "      <td>NaN</td>\n",
       "      <td>NaN</td>\n",
       "      <td>NaN</td>\n",
       "      <td>NaN</td>\n",
       "    </tr>\n",
       "    <tr>\n",
       "      <th>1902</th>\n",
       "      <td>04:58:46</td>\n",
       "      <td>476.50</td>\n",
       "      <td>?????</td>\n",
       "      <td>?????</td>\n",
       "      <td>?????</td>\n",
       "      <td>?????</td>\n",
       "      <td>?????</td>\n",
       "      <td>?????</td>\n",
       "      <td>?????</td>\n",
       "      <td>?????</td>\n",
       "      <td>...</td>\n",
       "      <td>?</td>\n",
       "      <td>?????</td>\n",
       "      <td>???</td>\n",
       "      <td>???</td>\n",
       "      <td>????</td>\n",
       "      <td>?????</td>\n",
       "      <td>NaN</td>\n",
       "      <td>NaN</td>\n",
       "      <td>NaN</td>\n",
       "      <td>NaN</td>\n",
       "    </tr>\n",
       "  </tbody>\n",
       "</table>\n",
       "<p>1903 rows × 37 columns</p>\n",
       "</div>"
      ],
      "text/plain": [
       "     Date/Time  T (min)  PT-01  PT-02  PT-03  PT-04  PT-05  PT-06 VESSEL_SP  \\\n",
       "0     21:01:35     1.00    ???    ???    ???    ???    ???    ???       ???   \n",
       "1     21:01:36     1.25    ???    ???    ???    ???    ???    ???     @@@@@   \n",
       "2     21:01:51     1.50    6.6   -1.3    1.3    0.3    6.2   -0.5        40   \n",
       "3     21:02:06     1.75    6.6   -1.3    1.3    0.3    6.2   -0.5        20   \n",
       "4     21:02:21     2.00    6.5   -1.2    1.3    0.3    6.2   -0.5        20   \n",
       "...        ...      ...    ...    ...    ...    ...    ...    ...       ...   \n",
       "1898  04:57:44   475.50  ?????  ?????  ?????  ?????  ?????  ?????     ?????   \n",
       "1899  04:58:01   475.75  ?????  ?????  ?????  ?????  ?????  ?????     ?????   \n",
       "1900  04:58:16   476.00  ?????  ?????  ?????  ?????  ?????  ?????     ?????   \n",
       "1901  04:58:31   476.25  ?????  ?????  ?????  ?????  ?????  ?????     ?????   \n",
       "1902  04:58:46   476.50  ?????  ?????  ?????  ?????  ?????  ?????     ?????   \n",
       "\n",
       "     VESSEL_OP  ... OnOffMotor SDS_Mesure CHILLER_PV CHILLER_SP  \\\n",
       "0          ???  ...        ???        ???        ???        ???   \n",
       "1        @@@@@  ...        ???        ???        ???        ???   \n",
       "2          8.1  ...          0   0.001068       15.1          0   \n",
       "3            0  ...          0   0.001071       15.1          0   \n",
       "4            0  ...          0   0.001074       15.1          0   \n",
       "...        ...  ...        ...        ...        ...        ...   \n",
       "1898     ?????  ...          ?      ?????        ???        ???   \n",
       "1899     ?????  ...          ?      ?????        ???        ???   \n",
       "1900     ?????  ...          ?      ?????        ???        ???   \n",
       "1901     ?????  ...          ?      ?????        ???        ???   \n",
       "1902     ?????  ...          ?      ?????        ???        ???   \n",
       "\n",
       "     CORIOLIS_Density  Motor PT1 - PT2 PT1-PT3 PT1-PT4 PT1-PT5  \n",
       "0                 ???    ???       NaN     NaN     NaN     NaN  \n",
       "1                 ???    ???       NaN     NaN     NaN     NaN  \n",
       "2                0.84  -2000       7.9     5.3     6.3     0.4  \n",
       "3               0.839  -2000       7.9     5.3     6.3     0.4  \n",
       "4               0.838  -2000       7.7     5.2     6.2     0.3  \n",
       "...               ...    ...       ...     ...     ...     ...  \n",
       "1898             ????  ?????       NaN     NaN     NaN     NaN  \n",
       "1899             ????  ?????       NaN     NaN     NaN     NaN  \n",
       "1900             ????  ?????       NaN     NaN     NaN     NaN  \n",
       "1901             ????  ?????       NaN     NaN     NaN     NaN  \n",
       "1902             ????  ?????       NaN     NaN     NaN     NaN  \n",
       "\n",
       "[1903 rows x 37 columns]"
      ]
     },
     "execution_count": 439,
     "metadata": {},
     "output_type": "execute_result"
    }
   ],
   "source": [
    "A2"
   ]
  },
  {
   "cell_type": "code",
   "execution_count": 137,
   "id": "7ed9e7fa-3f61-489d-8444-9054240082c5",
   "metadata": {},
   "outputs": [],
   "source": [
    "# Propiedades Físicas\n",
    "T_crudo_media = (T_crudo_e+T_crudo_s)/2\n",
    "T_glycol_media = (T_glycol_e+T_glycol_s)/2  # en caso de faltar un temperatura, tomar de la otra corriente\n",
    "\n",
    "Cp_crudo = 2100 # [J/Kg K]\n",
    "Cp_glycol = cp.CoolProp.PropsSI('C','T',273+T_glycol_media,'P',101325,'INCOMP::MEG[0.50]')\n",
    "rho_crudo = 850\n",
    "rho_glycol = cp.CoolProp.PropsSI('D','T',273+ T_glycol_media,'P',101325,'INCOMP::MEG[0.50]')\n",
    "mu_crudo  = cp.CoolProp.PropsSI('V','T',273+T_crudo_media,'P',101325,'Water')*10\n",
    "mu_glycol = cp.CoolProp.PropsSI('V','T',273+T_glycol_media,'P',101325,'INCOMP::MEG[0.50]')\n",
    "nu_crudo = mu_crudo/rho_crudo\n",
    "nu_glycol = mu_glycol/rho_glycol\n",
    "k_crudo = 0.13\n",
    "k_glycol = cp.CoolProp.PropsSI('L','T',273+T_glycol_media,'P',101325,'INCOMP::MEG[0.50]')\n",
    "a_crudo = k_crudo/(rho_crudo*Cp_crudo)    #difusividad térmica\n",
    "a_glycol = k_glycol/(rho_glycol*Cp_glycol)\n",
    "\n",
    "Pr_crudo = nu_crudo/a_crudo\n",
    "Pr_glycol = nu_glycol / a_glycol\n",
    "\n",
    "Pr_glycol2 = cp.CoolProp.PropsSI('Prandtl','T',273+T_glycol_media,'P',101325,'INCOMP::MEG[0.50]')"
   ]
  },
  {
   "cell_type": "markdown",
   "id": "53cd83cc-7b3b-493e-82ef-862833461639",
   "metadata": {},
   "source": [
    "[datos](https://material-properties.org/es/combustible-diesel-densidad-punto-de-fusion-conductividad-termica/)"
   ]
  },
  {
   "cell_type": "code",
   "execution_count": 14,
   "id": "6d2b52b3-7c17-4ab3-a8da-132c1981f4e1",
   "metadata": {},
   "outputs": [
    {
     "data": {
      "text/latex": [
       "Calor Intercambiado: $Q=0.22$kW"
      ],
      "text/plain": [
       "<IPython.core.display.Latex object>"
      ]
     },
     "metadata": {},
     "output_type": "display_data"
    }
   ],
   "source": [
    "Q_crudo = Cp_crudo*Caudal_crudo*rho_crudo*(T_crudo_e-T_crudo_s)\n",
    "Q_glycol = Q_crudo\n",
    "Caudal_glycol = Q_glycol / (Cp_glycol*(T_glycol_s-T_glycol_e) *rho_glycol)\n",
    "display(Latex(f'Calor Intercambiado: $Q={Q_crudo*1e-3:.2f}$kW'))"
   ]
  },
  {
   "cell_type": "code",
   "execution_count": 12,
   "id": "17e4398b-1ff2-4dbf-89fc-417f339c50f4",
   "metadata": {},
   "outputs": [
    {
     "data": {
      "text/plain": [
       "[67.38375, 185.30531249999945]"
      ]
     },
     "execution_count": 12,
     "metadata": {},
     "output_type": "execute_result"
    }
   ],
   "source": [
    "[Cp_crudo*Caudal_crudo*rho_crudo,Cp_glycol*Caudal_glycol*rho_glycol]"
   ]
  },
  {
   "cell_type": "markdown",
   "id": "f9db9180",
   "metadata": {
    "papermill": {
     "duration": 0.026308,
     "end_time": "2021-05-30T21:24:18.617700",
     "exception": false,
     "start_time": "2021-05-30T21:24:18.591392",
     "status": "completed"
    },
    "tags": []
   },
   "source": [
    "### Eficiencia térmica. Calor Intercambiado."
   ]
  },
  {
   "cell_type": "code",
   "execution_count": 15,
   "id": "7bb6e53c",
   "metadata": {
    "papermill": {
     "duration": 0.036227,
     "end_time": "2021-05-30T21:24:18.680611",
     "exception": false,
     "start_time": "2021-05-30T21:24:18.644384",
     "status": "completed"
    },
    "tags": []
   },
   "outputs": [
    {
     "name": "stdout",
     "output_type": "stream",
     "text": [
      "Capacidad Térmica Mínima Cmin = 67.4 W/K\n",
      "Fluido Cmin: Crudo\n",
      "Calor Máximo disponible Qmax=1.1 kW\n",
      "Eficiencia térmica del equipo = 0.19\n"
     ]
    }
   ],
   "source": [
    "#Capacidad Térmica Mínima\n",
    "Capacidades_termicas = np.array([Cp_crudo*Caudal_crudo*rho_crudo,Cp_glycol*Caudal_glycol*rho_glycol])\n",
    "Fluidos = ['Crudo','Glycol']\n",
    "Cmin = np.min(Capacidades_termicas)\n",
    "fluido_cmin = Fluidos[np.argmin(Capacidades_termicas)]\n",
    "#Mayor Salto Térmico del sistema\n",
    "DeltaT_max = T_crudo_e- T_glycol_e\n",
    "#Calor Máximo disponible\n",
    "Qmax = Cmin*DeltaT_max\n",
    "#ficiencia térmica\n",
    "eficiencia = Q_crudo/Qmax\n",
    "\n",
    " \n",
    "print(f'Capacidad Térmica Mínima Cmin = %.1f W/K'%Cmin)\n",
    "print(f'Fluido Cmin: '+fluido_cmin)\n",
    "print(f'Calor Máximo disponible Qmax=%.1f kW'%(Qmax*1e-3))\n",
    "print(f'Eficiencia térmica del equipo = %.2f'%eficiencia)\n"
   ]
  },
  {
   "cell_type": "markdown",
   "id": "d819fd61",
   "metadata": {
    "papermill": {
     "duration": 0.026476,
     "end_time": "2021-05-30T21:24:18.733833",
     "exception": false,
     "start_time": "2021-05-30T21:24:18.707357",
     "status": "completed"
    },
    "tags": []
   },
   "source": [
    "## LMTD, área y Coeficiente Global \n"
   ]
  },
  {
   "cell_type": "code",
   "execution_count": 17,
   "id": "1916c2e0",
   "metadata": {
    "papermill": {
     "duration": 0.053378,
     "end_time": "2021-05-30T21:24:18.823659",
     "exception": false,
     "start_time": "2021-05-30T21:24:18.770281",
     "status": "completed"
    },
    "tags": []
   },
   "outputs": [
    {
     "data": {
      "text/latex": [
       "Conductancia Global U=11.8W/m$^2$"
      ],
      "text/plain": [
       "<IPython.core.display.Latex object>"
      ]
     },
     "metadata": {},
     "output_type": "display_data"
    },
    {
     "data": {
      "text/latex": [
       "Velocidad crudo $V_{crudo}=0.075$m/s"
      ],
      "text/plain": [
       "<IPython.core.display.Latex object>"
      ]
     },
     "metadata": {},
     "output_type": "display_data"
    },
    {
     "data": {
      "text/latex": [
       "Velocidad crudo $V_{glycol}=0.007$m/s"
      ],
      "text/plain": [
       "<IPython.core.display.Latex object>"
      ]
     },
     "metadata": {},
     "output_type": "display_data"
    }
   ],
   "source": [
    "LMTD = ht.LMTD(Tci=T_glycol_e, Tco=T_glycol_s, Thi=T_crudo_e, Tho=T_crudo_s)\n",
    "\n",
    "Area = D_interno*np.pi*Longitud\n",
    "#######################\n",
    "U = Q_crudo/(LMTD*Area)\n",
    "\n",
    "display(Latex(f'Conductancia Global U={U:.1f}W/m$^2$'))\n",
    "\n",
    "Area_pasaje_crudo = (D_interno**2*np.pi/4)\n",
    "Veloc_crudo = Caudal_crudo / Area_pasaje_crudo\n",
    "\n",
    "Area_pasaje_glycol = ( (D_externo**2-D_interno**2)*np.pi/4)\n",
    "Perimetro_glycol = D_interno*np.pi+D_externo*np.pi\n",
    "\n",
    "Veloc_glycol  = Caudal_glycol / Area_pasaje_glycol\n",
    "\n",
    "\n",
    "D_hidraulico_glycol = 4*Area_pasaje_glycol / Perimetro_glycol\n",
    "\n",
    "display(Latex(f'Velocidad crudo $V_{{crudo}}={Veloc_crudo:.3f}$m/s'))\n",
    "display(Latex(f'Velocidad crudo $V_{{glycol}}={Veloc_glycol:.3f}$m/s'))\n",
    "\n",
    "\n",
    "#Aire.veloc = Aire.caudal / Aire.area\n",
    "#Aire.Reynolds()\n",
    "#Npasotubos =  Re_design*(np.pi*Tubo_dext-Tubo_esp*2*Ntubos_0*m ) / (4*m_t)"
   ]
  },
  {
   "cell_type": "markdown",
   "id": "fdb5ff54",
   "metadata": {
    "papermill": {
     "duration": 0.027009,
     "end_time": "2021-05-30T21:24:19.006551",
     "exception": false,
     "start_time": "2021-05-30T21:24:18.979542",
     "status": "completed"
    },
    "tags": []
   },
   "source": [
    "ŽUKAUSKAS, A. Heat transfer from tubes in crossflow. En Advances in heat transfer. Elsevier, 1972. p. 93-160."
   ]
  },
  {
   "cell_type": "code",
   "execution_count": 18,
   "id": "c94a1b95",
   "metadata": {
    "papermill": {
     "duration": 0.03529,
     "end_time": "2021-05-30T21:24:19.069169",
     "exception": false,
     "start_time": "2021-05-30T21:24:19.033879",
     "status": "completed"
    },
    "tags": []
   },
   "outputs": [
    {
     "data": {
      "text/latex": [
       "$Re_{crudo}=314$,$Nu_{crudo}=10.0$, $hc_{crudo}=51$"
      ],
      "text/plain": [
       "<IPython.core.display.Latex object>"
      ]
     },
     "metadata": {},
     "output_type": "display_data"
    },
    {
     "data": {
      "text/latex": [
       "$Re_{glycol}=254$,    $Nu_{glycol}=5.1$,$hc_{glycol}=27$"
      ],
      "text/plain": [
       "<IPython.core.display.Latex object>"
      ]
     },
     "metadata": {},
     "output_type": "display_data"
    }
   ],
   "source": [
    "Re_crudo = Veloc_crudo * D_interno / nu_crudo\n",
    "Re_glycol = Veloc_glycol * D_hidraulico_glycol / nu_glycol\n",
    "Nu_crudo = ht.conv_internal.turbulent_Colburn(Re_crudo,Pr_crudo)\n",
    "Nu_glycol = ht.conv_internal.turbulent_Colburn(Re_glycol,Pr_glycol)\n",
    "hc_crudo = Nu_crudo*k_crudo/D_interno\n",
    "hc_glycol = Nu_glycol*k_glycol/D_hidraulico_glycol\n",
    "display(Latex(f'$Re_{{crudo}}={Re_crudo:.0f}$,$Nu_{{crudo}}={Nu_crudo:.1f}$, $hc_{{crudo}}={hc_crudo:.0f}$'))\n",
    "display(Latex(f'$Re_{{glycol}}={Re_glycol:.0f}$,    $Nu_{{glycol}}={Nu_glycol:.1f}$,$hc_{{glycol}}={hc_glycol:.0f}$'))\n",
    "#print('Coeficiente conveccion aire = %.1f'%Aire.hc)"
   ]
  },
  {
   "cell_type": "markdown",
   "id": "7599e910",
   "metadata": {
    "papermill": {
     "duration": 0.027354,
     "end_time": "2021-05-30T21:24:19.125477",
     "exception": false,
     "start_time": "2021-05-30T21:24:19.098123",
     "status": "completed"
    },
    "tags": []
   },
   "source": [
    "COLBURN, Allan P. A method of correlating forced convection heat-transfer data and a comparison with fluid friction. International Journal of Heat and Mass Transfer, 1964, vol. 7, no 12, p. 1359-1384."
   ]
  },
  {
   "cell_type": "code",
   "execution_count": 21,
   "id": "4023bcbf-e101-46c3-9953-8192aedab646",
   "metadata": {},
   "outputs": [],
   "source": [
    "k_acero = ht.k_material('stainless steel')\n",
    "espesor_tubo = 1e-3"
   ]
  },
  {
   "cell_type": "code",
   "execution_count": 22,
   "id": "c80bed78",
   "metadata": {
    "papermill": {
     "duration": 0.037501,
     "end_time": "2021-05-30T21:24:19.611607",
     "exception": false,
     "start_time": "2021-05-30T21:24:19.574106",
     "status": "completed"
    },
    "tags": []
   },
   "outputs": [],
   "source": [
    "Ulimpio = (1/ (hc_crudo*D_interno) + np.log((D_interno+espesor_tubo)/D_interno)/k_acero + 1/(hc_glycol*(D_interno+espesor_tubo)))**-1\n",
    "#U_calc = 1 / (1/Ulimpio + Rf *(1+Tubo_dext/Tubo_dint))\n",
    "\n"
   ]
  },
  {
   "cell_type": "code",
   "execution_count": 23,
   "id": "83e0d79a-d418-40fd-9e3b-701985e6e3ac",
   "metadata": {},
   "outputs": [
    {
     "data": {
      "text/plain": [
       "(440.2452970082708, 1.2961839923607767)"
      ]
     },
     "execution_count": 23,
     "metadata": {},
     "output_type": "execute_result"
    }
   ],
   "source": [
    "1/ (np.log((D_interno+espesor_tubo)/D_interno)/k_acero ), (hc_crudo*D_interno) "
   ]
  },
  {
   "cell_type": "code",
   "execution_count": 22,
   "id": "351ed4de-f104-481f-8158-e67334f721d2",
   "metadata": {},
   "outputs": [
    {
     "data": {
      "text/plain": [
       "(4.270114968579573, 1531.9786379170362)"
      ]
     },
     "execution_count": 22,
     "metadata": {},
     "output_type": "execute_result"
    }
   ],
   "source": [
    "Ulimpio,hc_crudo"
   ]
  },
  {
   "cell_type": "code",
   "execution_count": 24,
   "id": "1557ace1",
   "metadata": {
    "papermill": {
     "duration": 0.038704,
     "end_time": "2021-05-30T21:24:19.678680",
     "exception": false,
     "start_time": "2021-05-30T21:24:19.639976",
     "status": "completed"
    },
    "tags": []
   },
   "outputs": [
    {
     "data": {
      "text/latex": [
       "$\\Delta p_{crudo}=0.3559587650480511$Pa"
      ],
      "text/plain": [
       "<IPython.core.display.Latex object>"
      ]
     },
     "metadata": {},
     "output_type": "display_data"
    },
    {
     "data": {
      "text/latex": [
       "$\\Delta p_{glycol}=0.0012161099724487204$Pa"
      ],
      "text/plain": [
       "<IPython.core.display.Latex object>"
      ]
     },
     "metadata": {},
     "output_type": "display_data"
    }
   ],
   "source": [
    "# Caida de presion\n",
    "\n",
    "# Calculo para flujo en tubos\n",
    "roughness = fluids.roughness_Farshad('Carbon steel, bare', D=D_interno)\n",
    "roughness_gl = fluids.roughness_Farshad('Carbon steel, bare', D=D_hidraulico_glycol)\n",
    "\n",
    "f_c = fluids.friction.friction_factor(Re=Re_crudo, eD=roughness/D_interno)\n",
    "f_c2 = 1.2*(0.0014+0.125/Re_crudo**.32)\n",
    "f_c_gl = fluids.friction.friction_factor(Re=Re_glycol, eD=roughness_gl/D_hidraulico_glycol)\n",
    "\n",
    "Delta_p_crudo = f_c*Veloc_crudo**2*Longitud/D_interno/2 \n",
    "Delta_p_glycol = f_c_gl*Veloc_glycol**2*Longitud/D_hidraulico_glycol/2 \n",
    "\n",
    "display(Latex(f'$\\Delta p_{{crudo}}={Delta_p_crudo}$Pa'))\n",
    "display(Latex(f'$\\Delta p_{{glycol}}={Delta_p_glycol}$Pa'))"
   ]
  },
  {
   "cell_type": "code",
   "execution_count": 13,
   "id": "416eb2ee",
   "metadata": {
    "_kg_hide-input": true,
    "papermill": {
     "duration": 0.091143,
     "end_time": "2021-05-30T21:24:19.799295",
     "exception": false,
     "start_time": "2021-05-30T21:24:19.708152",
     "status": "completed"
    },
    "tags": []
   },
   "outputs": [
    {
     "name": "stdout",
     "output_type": "stream",
     "text": [
      "Se puede volcar sobre un archivo Excel.\n"
     ]
    },
    {
     "data": {
      "text/html": [
       "<div>\n",
       "<style scoped>\n",
       "    .dataframe tbody tr th:only-of-type {\n",
       "        vertical-align: middle;\n",
       "    }\n",
       "\n",
       "    .dataframe tbody tr th {\n",
       "        vertical-align: top;\n",
       "    }\n",
       "\n",
       "    .dataframe thead th {\n",
       "        text-align: right;\n",
       "    }\n",
       "</style>\n",
       "<table border=\"1\" class=\"dataframe\">\n",
       "  <thead>\n",
       "    <tr style=\"text-align: right;\">\n",
       "      <th></th>\n",
       "      <th>Unnamed: 0</th>\n",
       "      <th>Unnamed: 1</th>\n",
       "      <th>Unnamed: 2</th>\n",
       "    </tr>\n",
       "  </thead>\n",
       "  <tbody>\n",
       "    <tr>\n",
       "      <th>0</th>\n",
       "      <td>Nombre Fluido</td>\n",
       "      <td>Crudo</td>\n",
       "      <td>Glycol 50%</td>\n",
       "    </tr>\n",
       "    <tr>\n",
       "      <th>1</th>\n",
       "      <td>Caudal masico (kg/s)</td>\n",
       "      <td>0.28</td>\n",
       "      <td>0.29</td>\n",
       "    </tr>\n",
       "    <tr>\n",
       "      <th>2</th>\n",
       "      <td>Temperatura Entrada</td>\n",
       "      <td>60.0</td>\n",
       "      <td>-20.0</td>\n",
       "    </tr>\n",
       "    <tr>\n",
       "      <th>3</th>\n",
       "      <td>Temperatura salida</td>\n",
       "      <td>22.0</td>\n",
       "      <td>5.0</td>\n",
       "    </tr>\n",
       "    <tr>\n",
       "      <th>4</th>\n",
       "      <td>Densidad kg/m3</td>\n",
       "      <td>850</td>\n",
       "      <td>1078</td>\n",
       "    </tr>\n",
       "    <tr>\n",
       "      <th>5</th>\n",
       "      <td>Viscosidad cP</td>\n",
       "      <td>6.4</td>\n",
       "      <td>11.4</td>\n",
       "    </tr>\n",
       "    <tr>\n",
       "      <th>6</th>\n",
       "      <td>Calor específico J/Kg C</td>\n",
       "      <td>2100</td>\n",
       "      <td>3159</td>\n",
       "    </tr>\n",
       "    <tr>\n",
       "      <th>7</th>\n",
       "      <td>Conductividad térmica W/Kg C</td>\n",
       "      <td>0.13</td>\n",
       "      <td>0.37</td>\n",
       "    </tr>\n",
       "    <tr>\n",
       "      <th>8</th>\n",
       "      <td>Presión de entrada kPa</td>\n",
       "      <td>101.3</td>\n",
       "      <td>101.3</td>\n",
       "    </tr>\n",
       "    <tr>\n",
       "      <th>9</th>\n",
       "      <td>Velocidad m/s</td>\n",
       "      <td>4.7</td>\n",
       "      <td>0.6</td>\n",
       "    </tr>\n",
       "    <tr>\n",
       "      <th>10</th>\n",
       "      <td>Caída de presión Pa</td>\n",
       "      <td>734.2</td>\n",
       "      <td>13.1</td>\n",
       "    </tr>\n",
       "    <tr>\n",
       "      <th>11</th>\n",
       "      <td>Resistencia de ensuciamiento m2C/W</td>\n",
       "      <td>NaN</td>\n",
       "      <td>NaN</td>\n",
       "    </tr>\n",
       "    <tr>\n",
       "      <th>12</th>\n",
       "      <td>Calor intercambiado kW</td>\n",
       "      <td>22.61</td>\n",
       "      <td>NaN</td>\n",
       "    </tr>\n",
       "    <tr>\n",
       "      <th>13</th>\n",
       "      <td>Coeficiente Global de Transferencia</td>\n",
       "      <td>979.6</td>\n",
       "      <td>NaN</td>\n",
       "    </tr>\n",
       "  </tbody>\n",
       "</table>\n",
       "</div>"
      ],
      "text/plain": [
       "                             Unnamed: 0 Unnamed: 1  Unnamed: 2\n",
       "0                         Nombre Fluido      Crudo  Glycol 50%\n",
       "1                  Caudal masico (kg/s)       0.28        0.29\n",
       "2                   Temperatura Entrada       60.0       -20.0\n",
       "3                    Temperatura salida       22.0         5.0\n",
       "4                        Densidad kg/m3        850        1078\n",
       "5                         Viscosidad cP        6.4        11.4\n",
       "6               Calor específico J/Kg C       2100        3159\n",
       "7          Conductividad térmica W/Kg C       0.13        0.37\n",
       "8                Presión de entrada kPa      101.3       101.3\n",
       "9                         Velocidad m/s        4.7         0.6\n",
       "10                  Caída de presión Pa      734.2        13.1\n",
       "11   Resistencia de ensuciamiento m2C/W        NaN         NaN\n",
       "12               Calor intercambiado kW      22.61         NaN\n",
       "13  Coeficiente Global de Transferencia      979.6         NaN"
      ]
     },
     "execution_count": 13,
     "metadata": {},
     "output_type": "execute_result"
    }
   ],
   "source": [
    "print('Se puede volcar sobre un archivo Excel.')\n",
    "# Workbook is created \n",
    "wb = xw.Workbook() \n",
    "xw.add_palette_colour(\"gris\", 0x21)\n",
    "wb.set_colour_RGB(0x21, 200, 200,200)  \n",
    "# add_sheet is used to create sheet. \n",
    "sheet1 = wb.add_sheet('Performance Unidad') \n",
    "style = xw.easyxf('pattern: pattern solid, fore_colour gris;')\n",
    "# Input data into rows \n",
    "sheet1.write(3, 0, 'Nombre Fluido') \n",
    "sheet1.write(3, 1, 'Crudo') \n",
    "sheet1.write(3, 2, 'Glycol 50%') \n",
    "\n",
    "sheet1.write(4, 0, 'Caudal masico (kg/s)',style) \n",
    "sheet1.write(4, 1, '%.2f'%(Caudal_crudo*rho_crudo),style) \n",
    "sheet1.write(4, 2, '%.2f'%(Caudal_glycol*rho_glycol),style) \n",
    "\n",
    "sheet1.write(5, 0, 'Temperatura Entrada') \n",
    "sheet1.write(5, 1, '%.1f'%T_crudo_e) \n",
    "sheet1.write(5, 2, '%.1f'%T_glycol_e) \n",
    "\n",
    "sheet1.write(6, 0, 'Temperatura salida',style) \n",
    "sheet1.write(6, 1, f'{T_crudo_s:.1f}',style) \n",
    "sheet1.write(6, 2, f'{T_glycol_s:.1f}',style) \n",
    "sheet1.write(7, 0, 'Densidad kg/m3') \n",
    "sheet1.write(7, 1, f'{rho_crudo:.0f}')\n",
    "sheet1.write(7, 2, f'{rho_glycol:.0f}')\n",
    "sheet1.write(8, 0, 'Viscosidad cP',style) \n",
    "sheet1.write(8, 1, f'{mu_crudo*1e3:.1f}',style) \n",
    "sheet1.write(8, 2, f'{mu_glycol*1e3:.1f}',style) \n",
    "\n",
    "\n",
    "sheet1.write(9, 0, 'Calor específico J/Kg C')\n",
    "sheet1.write(9, 1, f'{Cp_crudo:.0f}')\n",
    "sheet1.write(9, 2, f'{Cp_glycol:.0f}')\n",
    "\n",
    "\n",
    "sheet1.write(10, 0, 'Conductividad térmica W/Kg C',style) \n",
    "sheet1.write(10, 1, f'{k_crudo:.2f}',style) \n",
    "sheet1.write(10, 2, f'{k_glycol:.2f}',style) \n",
    "\n",
    "sheet1.write(11, 0, 'Presión de entrada kPa') \n",
    "sheet1.write(11, 1, '%.1f'%(101.3))\n",
    "sheet1.write(11, 2, '%.1f'%(101.3))\n",
    "\n",
    "\n",
    "sheet1.write(12, 0, 'Velocidad m/s',style) \n",
    "sheet1.write(12, 1, f'{Veloc_crudo:.1f}',style)\n",
    "sheet1.write(12, 2, f'{Veloc_glycol:.1f}',style)\n",
    "\n",
    "\n",
    "sheet1.write(13, 0, 'Caída de presión Pa') \n",
    "sheet1.write(13, 1, f'{Delta_p_crudo:.1f}')\n",
    "sheet1.write(13, 2, f'{Delta_p_glycol:.1f}')\n",
    "\n",
    "\n",
    "sheet1.write(14, 0, 'Resistencia de ensuciamiento m2C/W',style) \n",
    "#sheet1.write(14, 1, '%.4f'%(Rf/2),style)\n",
    "#sheet1.write(14, 2, '%.4f'%(Rf/2),style)\n",
    "\n",
    "sheet1.write(15, 0, 'Calor intercambiado kW') \n",
    "sheet1.write(15, 1, f'{Q_crudo*1e-3}')\n",
    "\n",
    "sheet1.write(16, 0, 'Coeficiente Global de Transferencia',style)\n",
    "sheet1.write(16, 1, f'{U:.1f}',style)\n",
    "\n",
    "nombre_salida = 'Intercambiador_salida.xls'\n",
    "wb.save(nombre_salida)\n",
    "data_salida_excel = pd.read_excel('./'+nombre_salida,skiprows=2)\n",
    "data_salida_excel"
   ]
  },
  {
   "cell_type": "code",
   "execution_count": 25,
   "id": "b00abc95-ef00-4152-9c6a-b497e2b24d88",
   "metadata": {},
   "outputs": [
    {
     "ename": "SyntaxError",
     "evalue": "invalid syntax (2619805294.py, line 1)",
     "output_type": "error",
     "traceback": [
      "\u001b[0;36m  Input \u001b[0;32mIn [25]\u001b[0;36m\u001b[0m\n\u001b[0;31m    calcular volumen de parafina necesario.... tres veces lo que deposita 5mm en la pared\u001b[0m\n\u001b[0m             ^\u001b[0m\n\u001b[0;31mSyntaxError\u001b[0m\u001b[0;31m:\u001b[0m invalid syntax\n"
     ]
    }
   ],
   "source": [
    "calcular volumen de parafina necesario.... tres veces lo que deposita 5mm en la pared"
   ]
  },
  {
   "cell_type": "code",
   "execution_count": 28,
   "id": "07b06e18",
   "metadata": {
    "papermill": {
     "duration": 0.038502,
     "end_time": "2021-05-30T21:24:21.917769",
     "exception": false,
     "start_time": "2021-05-30T21:24:21.879267",
     "status": "completed"
    },
    "tags": []
   },
   "outputs": [],
   "source": [
    "Diam = 25.4e-3\n",
    "Diam_para = 25.4e-3-2.5e-3\n",
    "\n",
    "Vol_para = (Diam**2*np.pi/4-Diam_para**2*np.pi/4)*Longitud"
   ]
  },
  {
   "cell_type": "code",
   "execution_count": 29,
   "id": "6497460a-a223-4c53-8b28-c312bd4325bd",
   "metadata": {},
   "outputs": [
    {
     "data": {
      "text/plain": [
       "1.5173892516838692"
      ]
     },
     "execution_count": 29,
     "metadata": {},
     "output_type": "execute_result"
    }
   ],
   "source": [
    "Vol_para*1e3"
   ]
  },
  {
   "cell_type": "code",
   "execution_count": null,
   "id": "175a60fa-a6b3-4d5f-88fb-16f3404d20dd",
   "metadata": {},
   "outputs": [],
   "source": []
  }
 ],
 "metadata": {
  "kernelspec": {
   "display_name": "Python 3",
   "language": "python",
   "name": "python3"
  },
  "language_info": {
   "codemirror_mode": {
    "name": "ipython",
    "version": 3
   },
   "file_extension": ".py",
   "mimetype": "text/x-python",
   "name": "python",
   "nbconvert_exporter": "python",
   "pygments_lexer": "ipython3",
   "version": "3.8.8"
  },
  "latex_envs": {
   "LaTeX_envs_menu_present": true,
   "autoclose": true,
   "autocomplete": true,
   "bibliofile": "biblio.bib",
   "cite_by": "apalike",
   "current_citInitial": 1,
   "eqLabelWithNumbers": true,
   "eqNumInitial": 1,
   "hotkeys": {
    "equation": "Ctrl-E",
    "itemize": "Ctrl-I"
   },
   "labels_anchors": false,
   "latex_user_defs": false,
   "report_style_numbering": false,
   "user_envs_cfg": false
  },
  "papermill": {
   "default_parameters": {},
   "duration": 23.771076,
   "end_time": "2021-05-30T21:24:22.664715",
   "environment_variables": {},
   "exception": null,
   "input_path": "__notebook__.ipynb",
   "output_path": "__notebook__.ipynb",
   "parameters": {},
   "start_time": "2021-05-30T21:23:58.893639",
   "version": "2.3.3"
  }
 },
 "nbformat": 4,
 "nbformat_minor": 5
}
