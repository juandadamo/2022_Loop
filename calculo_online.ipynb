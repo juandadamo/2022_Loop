{
 "cells": [
  {
   "cell_type": "code",
   "execution_count": 23,
   "id": "61c7d36d",
   "metadata": {
    "_kg_hide-input": true,
    "_kg_hide-output": true,
    "papermill": {
     "duration": 12.40044,
     "end_time": "2021-05-30T21:24:18.188788",
     "exception": false,
     "start_time": "2021-05-30T21:24:05.788348",
     "status": "completed"
    },
    "tags": []
   },
   "outputs": [],
   "source": [
    "%%capture\n",
    "!pip install numpy ipywidgets ht"
   ]
  },
  {
   "cell_type": "code",
   "execution_count": 24,
   "id": "693fee3f",
   "metadata": {
    "_cell_guid": "b1076dfc-b9ad-4769-8c92-a6c4dae69d19",
    "_kg_hide-input": true,
    "_kg_hide-output": true,
    "_uuid": "8f2839f25d086af736a60e9eeb907d3b93b6e0e5",
    "papermill": {
     "duration": 0.12376,
     "end_time": "2021-05-30T21:24:18.340027",
     "exception": false,
     "start_time": "2021-05-30T21:24:18.216267",
     "status": "completed"
    },
    "tags": []
   },
   "outputs": [],
   "source": [
    "import numpy as np # linear algebra\n",
    "from IPython.display import Latex\n",
    "from ipywidgets import interact, interact_manual,interactive,widgets,Layout\n",
    "import ht"
   ]
  },
  {
   "cell_type": "code",
   "execution_count": 45,
   "id": "abae9fea-8051-4395-b38f-9087e4fbc4e6",
   "metadata": {},
   "outputs": [],
   "source": [
    "#\n",
    "# Datos Gasoil\n",
    "P1,P2 = (np.array([2302.55849485,   -6.61174115]),\n",
    " np.array([-6.94642857e-01,  1.02629170e+03]))\n",
    "viscosidad_f = np.poly1d(P1)\n",
    "densidad_f = np.poly1d(P2)\n",
    "Tmedia = 13+273\n",
    "rho = densidad_f(Tmedia)\n",
    "mu = viscosidad_f(1/Tmedia)/1000\n",
    "nu = mu/rho\n",
    "#covnersion\n",
    "psipa = 6894.75\n",
    "#Datos sensor DP. volt a psi\n",
    "P3 = [0.579,-0.03]\n",
    "f_ajuste = np.poly1d(P3)\n",
    "psivolt  = np.poly1d([1/P3[0],-P3[1]/P3[0]])\n",
    "#datos loop\n",
    "D_interno_1 = 0.8366*25.4e-3\n",
    "Longitudes = np.array([6532.7,6532.7+290+1590.7+290,6532.7+(290+1590.7+290)*2,\n",
    "                       6532.7+(290+1590.7+290)*2+6518.4])/1000\n",
    "Li = Longitudes[-1]\n",
    "def f_calcula(b=1):\n",
    "    mu = viscosidad.value/1000\n",
    "    #mu = 14e-4\n",
    "    delta_w = espesor_w_i.value*1e-3\n",
    "    G = caudal_i.value/1000/60\n",
    "    Area = D_interno_1**2*np.pi/4\n",
    "    Area2 = (D_interno_1-2*delta_w)**2*np.pi/4\n",
    "\n",
    "    U = G/Area\n",
    "    U2 = G/Area2\n",
    "\n",
    "    Re = U * D_interno_1/(mu/rho)\n",
    "    Re2  = (U2 * D_interno_1-2*delta_w)/(mu/rho)\n",
    "    f = ht.conv_internal.friction_factor(Re)\n",
    "    f2 = ht.conv_internal.friction_factor(Re2)\n",
    "    #f = 64/Re\n",
    "    #f2 = 64/Re2\n",
    "    Reynolds.value = f'Re={Re:.0f}'\n",
    "    deltap1 = Li/D_interno_1 * rho/2*U**2*f/psipa\n",
    "    deltap2 = Li/(D_interno_1-2*delta_w) * rho/2*U2**2*f/psipa\n",
    "\n",
    "\n",
    "\n",
    "    c = 64; n = 1;\n",
    "    aux1  = 2*c*rho*Li*(mu/rho)**n*(4*G/np.pi)**(5-n)\n",
    "    aux2 = (D_interno_1-2*delta_w)**(5-n)\n",
    "    deltap_f1 = aux1/aux2\n",
    "    display(Latex(f'$\\Delta P_f = $ {deltap1:.3g}'))\n",
    "    salida_presion.value = f'$\\Delta p_0 = $ {deltap1:.2f} psi'\n",
    "    salida_presion_w.value = f'$\\Delta p_w = $ {deltap2:.2f} psi'\n",
    "    V0,Vw = [psivolt(deltap1), psivolt(deltap2)]\n",
    "    salida_tension.value = f'$V_0 = $ {V0:.2f} volt'\n",
    "    salida_tension_w.value = f'$V_w = $ {Vw:.2f} volt'\n",
    "    return deltap1,deltap2"
   ]
  },
  {
   "cell_type": "code",
   "execution_count": 46,
   "id": "8a09d824-bbba-4db9-936c-76368bb4eef6",
   "metadata": {},
   "outputs": [],
   "source": [
    "\n",
    "output_deltap = widgets.HBox(layout={'border': '4px solid black'})\n",
    "caudal_i = widgets.FloatSlider( value=5,     min=1,     max=25.0,     step=0.1,     \n",
    "    disabled=False,      orientation='horizontal',     readout=True,\n",
    "    readout_format='.1f',description='Caudal [lt/min]' )\n",
    "\n",
    "\n",
    "espesor_w_i = widgets.FloatSlider( value=1,     min=1,     max=4,     step=0.1, \n",
    "      description='$\\delta_w$ [mm]', disabled=False,     orientation='horizontal',     readout=True,\n",
    "    readout_format='.1f' )\n",
    "viscosidad = widgets.FloatText(    value=np.around(mu*1000,3),     description='$\\mu[cP]$',\n",
    "                               disabled=False,step=0.05,readout_format='.2f')\n",
    "\n",
    "Reynolds = widgets.Label('Re=')\n",
    "boton_calcula = widgets.Button(description='calcula')\n",
    "salida_presion = widgets.Label(value='$\\Delta p_0=$')\n",
    "salida_presion.layout=widgets.Layout(width='100px')\n",
    "\n",
    "salida_presion_w = widgets.Label(value='$\\Delta p_w=$')\n",
    "salida_presion_w.layout=widgets.Layout(width='150px')\n",
    "\n",
    "salida_tension = widgets.Label(value='$V_0=$')\n",
    "salida_tension.layout=widgets.Layout(width='100px')\n",
    "\n",
    "salida_tension_w = widgets.Label(value='$V_w=$')\n",
    "salida_tension_w.layout=widgets.Layout(width='100px')\n",
    "Reynolds.layout=widgets.Layout(width='150px')\n",
    "boton_calcula.on_click(f_calcula)\n",
    "parametros_input = widgets.VBox() \n",
    "parametros_input.children = ([caudal_i,espesor_w_i,viscosidad])\n",
    "panel_control = widgets.VBox(layout={'border': '1px solid black'})\n",
    "panel_salida_Re = widgets.VBox(layout={'border': '1px solid black'})\n",
    "panel_salida_p = widgets.VBox(layout={'border': '1px solid black'})\n",
    "panel_salida_v = widgets.VBox(layout={'border': '1px solid black'})\n",
    "panel_control.children = ([ parametros_input,boton_calcula])\n",
    "panel_salida_Re.children = ([Reynolds])\n",
    "panel_salida_p.children = ([ salida_presion,salida_presion_w])\n",
    "panel_salida_v.children = ([ salida_tension,salida_tension_w])\n",
    "output_deltap.children = ([panel_control,panel_salida_Re,panel_salida_p,panel_salida_v]) "
   ]
  },
  {
   "cell_type": "code",
   "execution_count": 47,
   "id": "1e6852bc-f809-4848-8fdc-e475e41e19e2",
   "metadata": {},
   "outputs": [
    {
     "data": {
      "application/vnd.jupyter.widget-view+json": {
       "model_id": "525ae6678026499196621863495daf07",
       "version_major": 2,
       "version_minor": 0
      },
      "text/plain": [
       "HBox(children=(VBox(children=(VBox(children=(FloatSlider(value=5.0, description='Caudal [lt/min]', max=25.0, m…"
      ]
     },
     "metadata": {},
     "output_type": "display_data"
    }
   ],
   "source": [
    "display(output_deltap)"
   ]
  },
  {
   "cell_type": "code",
   "execution_count": 15,
   "id": "9f25100e-28a6-46e4-b904-d1cdea52a822",
   "metadata": {},
   "outputs": [
    {
     "data": {
      "text/plain": [
       "\u001b[0;31mType:\u001b[0m           DescriptionStyle\n",
       "\u001b[0;31mString form:\u001b[0m    DescriptionStyle()\n",
       "\u001b[0;31mFile:\u001b[0m           ~/anaconda3/lib/python3.9/site-packages/ipywidgets/widgets/widget_description.py\n",
       "\u001b[0;31mDocstring:\u001b[0m      Description style widget.\n",
       "\u001b[0;31mInit docstring:\u001b[0m Public constructor\n"
      ]
     },
     "metadata": {},
     "output_type": "display_data"
    }
   ],
   "source": [
    "viscosidad.style?"
   ]
  },
  {
   "cell_type": "code",
   "execution_count": null,
   "id": "92e159af-58ee-43eb-b2cf-115a737ccb9f",
   "metadata": {},
   "outputs": [],
   "source": []
  }
 ],
 "metadata": {
  "kernelspec": {
   "display_name": "Python 3 (ipykernel)",
   "language": "python",
   "name": "python3"
  },
  "language_info": {
   "codemirror_mode": {
    "name": "ipython",
    "version": 3
   },
   "file_extension": ".py",
   "mimetype": "text/x-python",
   "name": "python",
   "nbconvert_exporter": "python",
   "pygments_lexer": "ipython3",
   "version": "3.9.12"
  },
  "latex_envs": {
   "LaTeX_envs_menu_present": true,
   "autoclose": true,
   "autocomplete": true,
   "bibliofile": "biblio.bib",
   "cite_by": "apalike",
   "current_citInitial": 1,
   "eqLabelWithNumbers": true,
   "eqNumInitial": 1,
   "hotkeys": {
    "equation": "Ctrl-E",
    "itemize": "Ctrl-I"
   },
   "labels_anchors": false,
   "latex_user_defs": false,
   "report_style_numbering": false,
   "user_envs_cfg": false
  },
  "papermill": {
   "default_parameters": {},
   "duration": 23.771076,
   "end_time": "2021-05-30T21:24:22.664715",
   "environment_variables": {},
   "exception": null,
   "input_path": "__notebook__.ipynb",
   "output_path": "__notebook__.ipynb",
   "parameters": {},
   "start_time": "2021-05-30T21:23:58.893639",
   "version": "2.3.3"
  }
 },
 "nbformat": 4,
 "nbformat_minor": 5
}
